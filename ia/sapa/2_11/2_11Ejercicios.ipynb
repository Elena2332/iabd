{
 "cells": [
  {
   "cell_type": "markdown",
   "metadata": {},
   "source": [
    "# EJERCICIOS"
   ]
  },
  {
   "cell_type": "code",
   "execution_count": 36,
   "metadata": {},
   "outputs": [],
   "source": [
    "import numpy as np\n",
    "import joblib\n",
    "import seaborn as sns\n",
    "import pandas as pd\n",
    "import matplotlib.pyplot as plt\n",
    "import warnings\n",
    "from sklearn.datasets import load_diabetes, load_iris\n",
    "from sklearn.model_selection import train_test_split, cross_val_score, GridSearchCV, cross_val_predict\n",
    "from sklearn.linear_model import LinearRegression, Ridge, Lasso, LogisticRegression\n",
    "from sklearn.svm import SVR\n",
    "from sklearn.metrics import confusion_matrix, precision_score, recall_score, f1_score, accuracy_score, mean_squared_error\n",
    "from sklearn.preprocessing import StandardScaler\n",
    "from sklearn.pipeline import make_pipeline\n",
    "from sklearn.exceptions import ConvergenceWarning\n",
    "from sklearn.compose import ColumnTransformer\n",
    "from sklearn.impute import SimpleImputer\n",
    "from sklearn.ensemble import RandomForestRegressor\n",
    "from sklearn.linear_model import SGDRegressor\n",
    "from sklearn.model_selection import RandomizedSearchCV\n"
   ]
  },
  {
   "cell_type": "code",
   "execution_count": 62,
   "metadata": {},
   "outputs": [],
   "source": [
    "warnings.filterwarnings(\"ignore\", category=FutureWarning)"
   ]
  },
  {
   "cell_type": "markdown",
   "metadata": {},
   "source": [
    "## EJERCICIO 1"
   ]
  },
  {
   "cell_type": "markdown",
   "metadata": {},
   "source": [
    "Imagina que estás usando regresión polinomial. Trazas las curvas de aprendizaje y te das cuenta de que hay un espacio grande entre el error de entrenamiento y el error de validación. ¿Qué está pasando? Piensa en tres formas de poder arreglarlo"
   ]
  },
  {
   "cell_type": "markdown",
   "metadata": {},
   "source": [
    "Puede que hayamos sobreajustando el modelo y al probarlo con datos nuevos no prediga bien\n",
    "\n",
    "Podemos arreglarlo de varias maneras:\n",
    "  - Introducir datos de entrenematiento más variados para que el modelo pueda generalizar mejor \n",
    "  - Cambiando el grado del polinomio por uno más pequeño para simplificar el modelo (PolynomialFeatures(degree=))\n",
    "  - Podemos disminuir la complejidad del modelo usandoregularizaciones como Ridge o Lasso (penalizan por intentar ajustarse de mas)"
   ]
  },
  {
   "cell_type": "markdown",
   "metadata": {},
   "source": [
    "## EJERCICIO 2"
   ]
  },
  {
   "cell_type": "markdown",
   "metadata": {},
   "source": [
    "Imagina que estás utilizando regresión de Ridge y observas que el error de entrenamiento y el error de validación son casi iguales y bastante altos. ¿Deberías incrementar el hiperparámetro de regularización o reducirlo (α)?"
   ]
  },
  {
   "cell_type": "markdown",
   "metadata": {},
   "source": [
    "Lo hemos subajustado y habría que reducirlo "
   ]
  },
  {
   "cell_type": "markdown",
   "metadata": {},
   "source": [
    "## EJERCICIO 3"
   ]
  },
  {
   "cell_type": "markdown",
   "metadata": {},
   "source": [
    "Ejercicio de Regresión con el Conjunto de Datos de Diabetes\n",
    "\n",
    "* Objetivo: El objetivo de este ejercicio es desarrollar un modelo de regresión que pueda predecir la progresión de la diabetes un año después del inicio basándose en diversas mediciones clínicas.\n",
    "\n",
    "* Datos: Utilizarás el conjunto de datos de diabetes proporcionado por Scikit-Learn, que contiene diez variables base (edad, sexo, índice de masa corporal, presión arterial y seis mediciones de suero sanguíneo) para 442 pacientes."
   ]
  },
  {
   "cell_type": "markdown",
   "metadata": {},
   "source": [
    "### RECOPILACIÓN Y PREPARACIÓN DE LOS DATOS"
   ]
  },
  {
   "cell_type": "markdown",
   "metadata": {},
   "source": [
    "#### OBTENER LOS DATOS"
   ]
  },
  {
   "cell_type": "code",
   "execution_count": 2,
   "metadata": {},
   "outputs": [],
   "source": [
    "dataset = load_diabetes(as_frame=True)\n",
    "X, y = dataset.data, dataset.target"
   ]
  },
  {
   "cell_type": "markdown",
   "metadata": {},
   "source": [
    "#### EXPLORAR LOS DATOS"
   ]
  },
  {
   "cell_type": "markdown",
   "metadata": {},
   "source": [
    "Muestra los primero datos de X e y"
   ]
  },
  {
   "cell_type": "code",
   "execution_count": 64,
   "metadata": {},
   "outputs": [
    {
     "data": {
      "text/html": [
       "<div>\n",
       "<style scoped>\n",
       "    .dataframe tbody tr th:only-of-type {\n",
       "        vertical-align: middle;\n",
       "    }\n",
       "\n",
       "    .dataframe tbody tr th {\n",
       "        vertical-align: top;\n",
       "    }\n",
       "\n",
       "    .dataframe thead th {\n",
       "        text-align: right;\n",
       "    }\n",
       "</style>\n",
       "<table border=\"1\" class=\"dataframe\">\n",
       "  <thead>\n",
       "    <tr style=\"text-align: right;\">\n",
       "      <th></th>\n",
       "      <th>age</th>\n",
       "      <th>sex</th>\n",
       "      <th>bmi</th>\n",
       "      <th>bp</th>\n",
       "      <th>s1</th>\n",
       "      <th>s2</th>\n",
       "      <th>s3</th>\n",
       "      <th>s4</th>\n",
       "      <th>s5</th>\n",
       "      <th>s6</th>\n",
       "    </tr>\n",
       "  </thead>\n",
       "  <tbody>\n",
       "    <tr>\n",
       "      <th>0</th>\n",
       "      <td>0.038076</td>\n",
       "      <td>0.050680</td>\n",
       "      <td>0.061696</td>\n",
       "      <td>0.021872</td>\n",
       "      <td>-0.044223</td>\n",
       "      <td>-0.034821</td>\n",
       "      <td>-0.043401</td>\n",
       "      <td>-0.002592</td>\n",
       "      <td>0.019907</td>\n",
       "      <td>-0.017646</td>\n",
       "    </tr>\n",
       "    <tr>\n",
       "      <th>1</th>\n",
       "      <td>-0.001882</td>\n",
       "      <td>-0.044642</td>\n",
       "      <td>-0.051474</td>\n",
       "      <td>-0.026328</td>\n",
       "      <td>-0.008449</td>\n",
       "      <td>-0.019163</td>\n",
       "      <td>0.074412</td>\n",
       "      <td>-0.039493</td>\n",
       "      <td>-0.068332</td>\n",
       "      <td>-0.092204</td>\n",
       "    </tr>\n",
       "    <tr>\n",
       "      <th>2</th>\n",
       "      <td>0.085299</td>\n",
       "      <td>0.050680</td>\n",
       "      <td>0.044451</td>\n",
       "      <td>-0.005670</td>\n",
       "      <td>-0.045599</td>\n",
       "      <td>-0.034194</td>\n",
       "      <td>-0.032356</td>\n",
       "      <td>-0.002592</td>\n",
       "      <td>0.002861</td>\n",
       "      <td>-0.025930</td>\n",
       "    </tr>\n",
       "    <tr>\n",
       "      <th>3</th>\n",
       "      <td>-0.089063</td>\n",
       "      <td>-0.044642</td>\n",
       "      <td>-0.011595</td>\n",
       "      <td>-0.036656</td>\n",
       "      <td>0.012191</td>\n",
       "      <td>0.024991</td>\n",
       "      <td>-0.036038</td>\n",
       "      <td>0.034309</td>\n",
       "      <td>0.022688</td>\n",
       "      <td>-0.009362</td>\n",
       "    </tr>\n",
       "    <tr>\n",
       "      <th>4</th>\n",
       "      <td>0.005383</td>\n",
       "      <td>-0.044642</td>\n",
       "      <td>-0.036385</td>\n",
       "      <td>0.021872</td>\n",
       "      <td>0.003935</td>\n",
       "      <td>0.015596</td>\n",
       "      <td>0.008142</td>\n",
       "      <td>-0.002592</td>\n",
       "      <td>-0.031988</td>\n",
       "      <td>-0.046641</td>\n",
       "    </tr>\n",
       "  </tbody>\n",
       "</table>\n",
       "</div>"
      ],
      "text/plain": [
       "        age       sex       bmi        bp        s1        s2        s3  \\\n",
       "0  0.038076  0.050680  0.061696  0.021872 -0.044223 -0.034821 -0.043401   \n",
       "1 -0.001882 -0.044642 -0.051474 -0.026328 -0.008449 -0.019163  0.074412   \n",
       "2  0.085299  0.050680  0.044451 -0.005670 -0.045599 -0.034194 -0.032356   \n",
       "3 -0.089063 -0.044642 -0.011595 -0.036656  0.012191  0.024991 -0.036038   \n",
       "4  0.005383 -0.044642 -0.036385  0.021872  0.003935  0.015596  0.008142   \n",
       "\n",
       "         s4        s5        s6  \n",
       "0 -0.002592  0.019907 -0.017646  \n",
       "1 -0.039493 -0.068332 -0.092204  \n",
       "2 -0.002592  0.002861 -0.025930  \n",
       "3  0.034309  0.022688 -0.009362  \n",
       "4 -0.002592 -0.031988 -0.046641  "
      ]
     },
     "execution_count": 64,
     "metadata": {},
     "output_type": "execute_result"
    }
   ],
   "source": [
    "X.head()"
   ]
  },
  {
   "cell_type": "code",
   "execution_count": 65,
   "metadata": {},
   "outputs": [
    {
     "data": {
      "text/plain": [
       "0    151.0\n",
       "1     75.0\n",
       "2    141.0\n",
       "3    206.0\n",
       "4    135.0\n",
       "Name: target, dtype: float64"
      ]
     },
     "execution_count": 65,
     "metadata": {},
     "output_type": "execute_result"
    }
   ],
   "source": [
    "y.head()"
   ]
  },
  {
   "cell_type": "code",
   "execution_count": 3,
   "metadata": {},
   "outputs": [
    {
     "data": {
      "text/html": [
       "<div>\n",
       "<style scoped>\n",
       "    .dataframe tbody tr th:only-of-type {\n",
       "        vertical-align: middle;\n",
       "    }\n",
       "\n",
       "    .dataframe tbody tr th {\n",
       "        vertical-align: top;\n",
       "    }\n",
       "\n",
       "    .dataframe thead th {\n",
       "        text-align: right;\n",
       "    }\n",
       "</style>\n",
       "<table border=\"1\" class=\"dataframe\">\n",
       "  <thead>\n",
       "    <tr style=\"text-align: right;\">\n",
       "      <th></th>\n",
       "      <th>age</th>\n",
       "      <th>sex</th>\n",
       "      <th>bmi</th>\n",
       "      <th>bp</th>\n",
       "      <th>s1</th>\n",
       "      <th>s2</th>\n",
       "      <th>s3</th>\n",
       "      <th>s4</th>\n",
       "      <th>s5</th>\n",
       "      <th>s6</th>\n",
       "      <th>progres</th>\n",
       "    </tr>\n",
       "  </thead>\n",
       "  <tbody>\n",
       "    <tr>\n",
       "      <th>0</th>\n",
       "      <td>0.038076</td>\n",
       "      <td>0.050680</td>\n",
       "      <td>0.061696</td>\n",
       "      <td>0.021872</td>\n",
       "      <td>-0.044223</td>\n",
       "      <td>-0.034821</td>\n",
       "      <td>-0.043401</td>\n",
       "      <td>-0.002592</td>\n",
       "      <td>0.019907</td>\n",
       "      <td>-0.017646</td>\n",
       "      <td>151.0</td>\n",
       "    </tr>\n",
       "    <tr>\n",
       "      <th>1</th>\n",
       "      <td>-0.001882</td>\n",
       "      <td>-0.044642</td>\n",
       "      <td>-0.051474</td>\n",
       "      <td>-0.026328</td>\n",
       "      <td>-0.008449</td>\n",
       "      <td>-0.019163</td>\n",
       "      <td>0.074412</td>\n",
       "      <td>-0.039493</td>\n",
       "      <td>-0.068332</td>\n",
       "      <td>-0.092204</td>\n",
       "      <td>75.0</td>\n",
       "    </tr>\n",
       "    <tr>\n",
       "      <th>2</th>\n",
       "      <td>0.085299</td>\n",
       "      <td>0.050680</td>\n",
       "      <td>0.044451</td>\n",
       "      <td>-0.005670</td>\n",
       "      <td>-0.045599</td>\n",
       "      <td>-0.034194</td>\n",
       "      <td>-0.032356</td>\n",
       "      <td>-0.002592</td>\n",
       "      <td>0.002861</td>\n",
       "      <td>-0.025930</td>\n",
       "      <td>141.0</td>\n",
       "    </tr>\n",
       "    <tr>\n",
       "      <th>3</th>\n",
       "      <td>-0.089063</td>\n",
       "      <td>-0.044642</td>\n",
       "      <td>-0.011595</td>\n",
       "      <td>-0.036656</td>\n",
       "      <td>0.012191</td>\n",
       "      <td>0.024991</td>\n",
       "      <td>-0.036038</td>\n",
       "      <td>0.034309</td>\n",
       "      <td>0.022688</td>\n",
       "      <td>-0.009362</td>\n",
       "      <td>206.0</td>\n",
       "    </tr>\n",
       "    <tr>\n",
       "      <th>4</th>\n",
       "      <td>0.005383</td>\n",
       "      <td>-0.044642</td>\n",
       "      <td>-0.036385</td>\n",
       "      <td>0.021872</td>\n",
       "      <td>0.003935</td>\n",
       "      <td>0.015596</td>\n",
       "      <td>0.008142</td>\n",
       "      <td>-0.002592</td>\n",
       "      <td>-0.031988</td>\n",
       "      <td>-0.046641</td>\n",
       "      <td>135.0</td>\n",
       "    </tr>\n",
       "  </tbody>\n",
       "</table>\n",
       "</div>"
      ],
      "text/plain": [
       "        age       sex       bmi        bp        s1        s2        s3  \\\n",
       "0  0.038076  0.050680  0.061696  0.021872 -0.044223 -0.034821 -0.043401   \n",
       "1 -0.001882 -0.044642 -0.051474 -0.026328 -0.008449 -0.019163  0.074412   \n",
       "2  0.085299  0.050680  0.044451 -0.005670 -0.045599 -0.034194 -0.032356   \n",
       "3 -0.089063 -0.044642 -0.011595 -0.036656  0.012191  0.024991 -0.036038   \n",
       "4  0.005383 -0.044642 -0.036385  0.021872  0.003935  0.015596  0.008142   \n",
       "\n",
       "         s4        s5        s6  progres  \n",
       "0 -0.002592  0.019907 -0.017646    151.0  \n",
       "1 -0.039493 -0.068332 -0.092204     75.0  \n",
       "2 -0.002592  0.002861 -0.025930    141.0  \n",
       "3  0.034309  0.022688 -0.009362    206.0  \n",
       "4 -0.002592 -0.031988 -0.046641    135.0  "
      ]
     },
     "execution_count": 3,
     "metadata": {},
     "output_type": "execute_result"
    }
   ],
   "source": [
    "df = X.copy()\n",
    "df['progres'] = y\n",
    "df.head()"
   ]
  },
  {
   "cell_type": "markdown",
   "metadata": {},
   "source": [
    "Usa .describe y .info para ver un poco de información"
   ]
  },
  {
   "cell_type": "code",
   "execution_count": 67,
   "metadata": {},
   "outputs": [
    {
     "name": "stdout",
     "output_type": "stream",
     "text": [
      "<class 'pandas.core.frame.DataFrame'>\n",
      "RangeIndex: 442 entries, 0 to 441\n",
      "Data columns (total 11 columns):\n",
      " #   Column   Non-Null Count  Dtype  \n",
      "---  ------   --------------  -----  \n",
      " 0   age      442 non-null    float64\n",
      " 1   sex      442 non-null    float64\n",
      " 2   bmi      442 non-null    float64\n",
      " 3   bp       442 non-null    float64\n",
      " 4   s1       442 non-null    float64\n",
      " 5   s2       442 non-null    float64\n",
      " 6   s3       442 non-null    float64\n",
      " 7   s4       442 non-null    float64\n",
      " 8   s5       442 non-null    float64\n",
      " 9   s6       442 non-null    float64\n",
      " 10  progres  442 non-null    float64\n",
      "dtypes: float64(11)\n",
      "memory usage: 38.1 KB\n"
     ]
    }
   ],
   "source": [
    "df.info()"
   ]
  },
  {
   "cell_type": "code",
   "execution_count": 68,
   "metadata": {},
   "outputs": [
    {
     "data": {
      "text/html": [
       "<div>\n",
       "<style scoped>\n",
       "    .dataframe tbody tr th:only-of-type {\n",
       "        vertical-align: middle;\n",
       "    }\n",
       "\n",
       "    .dataframe tbody tr th {\n",
       "        vertical-align: top;\n",
       "    }\n",
       "\n",
       "    .dataframe thead th {\n",
       "        text-align: right;\n",
       "    }\n",
       "</style>\n",
       "<table border=\"1\" class=\"dataframe\">\n",
       "  <thead>\n",
       "    <tr style=\"text-align: right;\">\n",
       "      <th></th>\n",
       "      <th>age</th>\n",
       "      <th>sex</th>\n",
       "      <th>bmi</th>\n",
       "      <th>bp</th>\n",
       "      <th>s1</th>\n",
       "      <th>s2</th>\n",
       "      <th>s3</th>\n",
       "      <th>s4</th>\n",
       "      <th>s5</th>\n",
       "      <th>s6</th>\n",
       "      <th>progres</th>\n",
       "    </tr>\n",
       "  </thead>\n",
       "  <tbody>\n",
       "    <tr>\n",
       "      <th>count</th>\n",
       "      <td>4.420000e+02</td>\n",
       "      <td>4.420000e+02</td>\n",
       "      <td>4.420000e+02</td>\n",
       "      <td>4.420000e+02</td>\n",
       "      <td>4.420000e+02</td>\n",
       "      <td>4.420000e+02</td>\n",
       "      <td>4.420000e+02</td>\n",
       "      <td>4.420000e+02</td>\n",
       "      <td>4.420000e+02</td>\n",
       "      <td>4.420000e+02</td>\n",
       "      <td>442.000000</td>\n",
       "    </tr>\n",
       "    <tr>\n",
       "      <th>mean</th>\n",
       "      <td>-2.511817e-19</td>\n",
       "      <td>1.230790e-17</td>\n",
       "      <td>-2.245564e-16</td>\n",
       "      <td>-4.797570e-17</td>\n",
       "      <td>-1.381499e-17</td>\n",
       "      <td>3.918434e-17</td>\n",
       "      <td>-5.777179e-18</td>\n",
       "      <td>-9.042540e-18</td>\n",
       "      <td>9.293722e-17</td>\n",
       "      <td>1.130318e-17</td>\n",
       "      <td>152.133484</td>\n",
       "    </tr>\n",
       "    <tr>\n",
       "      <th>std</th>\n",
       "      <td>4.761905e-02</td>\n",
       "      <td>4.761905e-02</td>\n",
       "      <td>4.761905e-02</td>\n",
       "      <td>4.761905e-02</td>\n",
       "      <td>4.761905e-02</td>\n",
       "      <td>4.761905e-02</td>\n",
       "      <td>4.761905e-02</td>\n",
       "      <td>4.761905e-02</td>\n",
       "      <td>4.761905e-02</td>\n",
       "      <td>4.761905e-02</td>\n",
       "      <td>77.093005</td>\n",
       "    </tr>\n",
       "    <tr>\n",
       "      <th>min</th>\n",
       "      <td>-1.072256e-01</td>\n",
       "      <td>-4.464164e-02</td>\n",
       "      <td>-9.027530e-02</td>\n",
       "      <td>-1.123988e-01</td>\n",
       "      <td>-1.267807e-01</td>\n",
       "      <td>-1.156131e-01</td>\n",
       "      <td>-1.023071e-01</td>\n",
       "      <td>-7.639450e-02</td>\n",
       "      <td>-1.260971e-01</td>\n",
       "      <td>-1.377672e-01</td>\n",
       "      <td>25.000000</td>\n",
       "    </tr>\n",
       "    <tr>\n",
       "      <th>25%</th>\n",
       "      <td>-3.729927e-02</td>\n",
       "      <td>-4.464164e-02</td>\n",
       "      <td>-3.422907e-02</td>\n",
       "      <td>-3.665608e-02</td>\n",
       "      <td>-3.424784e-02</td>\n",
       "      <td>-3.035840e-02</td>\n",
       "      <td>-3.511716e-02</td>\n",
       "      <td>-3.949338e-02</td>\n",
       "      <td>-3.324559e-02</td>\n",
       "      <td>-3.317903e-02</td>\n",
       "      <td>87.000000</td>\n",
       "    </tr>\n",
       "    <tr>\n",
       "      <th>50%</th>\n",
       "      <td>5.383060e-03</td>\n",
       "      <td>-4.464164e-02</td>\n",
       "      <td>-7.283766e-03</td>\n",
       "      <td>-5.670422e-03</td>\n",
       "      <td>-4.320866e-03</td>\n",
       "      <td>-3.819065e-03</td>\n",
       "      <td>-6.584468e-03</td>\n",
       "      <td>-2.592262e-03</td>\n",
       "      <td>-1.947171e-03</td>\n",
       "      <td>-1.077698e-03</td>\n",
       "      <td>140.500000</td>\n",
       "    </tr>\n",
       "    <tr>\n",
       "      <th>75%</th>\n",
       "      <td>3.807591e-02</td>\n",
       "      <td>5.068012e-02</td>\n",
       "      <td>3.124802e-02</td>\n",
       "      <td>3.564379e-02</td>\n",
       "      <td>2.835801e-02</td>\n",
       "      <td>2.984439e-02</td>\n",
       "      <td>2.931150e-02</td>\n",
       "      <td>3.430886e-02</td>\n",
       "      <td>3.243232e-02</td>\n",
       "      <td>2.791705e-02</td>\n",
       "      <td>211.500000</td>\n",
       "    </tr>\n",
       "    <tr>\n",
       "      <th>max</th>\n",
       "      <td>1.107267e-01</td>\n",
       "      <td>5.068012e-02</td>\n",
       "      <td>1.705552e-01</td>\n",
       "      <td>1.320436e-01</td>\n",
       "      <td>1.539137e-01</td>\n",
       "      <td>1.987880e-01</td>\n",
       "      <td>1.811791e-01</td>\n",
       "      <td>1.852344e-01</td>\n",
       "      <td>1.335973e-01</td>\n",
       "      <td>1.356118e-01</td>\n",
       "      <td>346.000000</td>\n",
       "    </tr>\n",
       "  </tbody>\n",
       "</table>\n",
       "</div>"
      ],
      "text/plain": [
       "                age           sex           bmi            bp            s1  \\\n",
       "count  4.420000e+02  4.420000e+02  4.420000e+02  4.420000e+02  4.420000e+02   \n",
       "mean  -2.511817e-19  1.230790e-17 -2.245564e-16 -4.797570e-17 -1.381499e-17   \n",
       "std    4.761905e-02  4.761905e-02  4.761905e-02  4.761905e-02  4.761905e-02   \n",
       "min   -1.072256e-01 -4.464164e-02 -9.027530e-02 -1.123988e-01 -1.267807e-01   \n",
       "25%   -3.729927e-02 -4.464164e-02 -3.422907e-02 -3.665608e-02 -3.424784e-02   \n",
       "50%    5.383060e-03 -4.464164e-02 -7.283766e-03 -5.670422e-03 -4.320866e-03   \n",
       "75%    3.807591e-02  5.068012e-02  3.124802e-02  3.564379e-02  2.835801e-02   \n",
       "max    1.107267e-01  5.068012e-02  1.705552e-01  1.320436e-01  1.539137e-01   \n",
       "\n",
       "                 s2            s3            s4            s5            s6  \\\n",
       "count  4.420000e+02  4.420000e+02  4.420000e+02  4.420000e+02  4.420000e+02   \n",
       "mean   3.918434e-17 -5.777179e-18 -9.042540e-18  9.293722e-17  1.130318e-17   \n",
       "std    4.761905e-02  4.761905e-02  4.761905e-02  4.761905e-02  4.761905e-02   \n",
       "min   -1.156131e-01 -1.023071e-01 -7.639450e-02 -1.260971e-01 -1.377672e-01   \n",
       "25%   -3.035840e-02 -3.511716e-02 -3.949338e-02 -3.324559e-02 -3.317903e-02   \n",
       "50%   -3.819065e-03 -6.584468e-03 -2.592262e-03 -1.947171e-03 -1.077698e-03   \n",
       "75%    2.984439e-02  2.931150e-02  3.430886e-02  3.243232e-02  2.791705e-02   \n",
       "max    1.987880e-01  1.811791e-01  1.852344e-01  1.335973e-01  1.356118e-01   \n",
       "\n",
       "          progres  \n",
       "count  442.000000  \n",
       "mean   152.133484  \n",
       "std     77.093005  \n",
       "min     25.000000  \n",
       "25%     87.000000  \n",
       "50%    140.500000  \n",
       "75%    211.500000  \n",
       "max    346.000000  "
      ]
     },
     "execution_count": 68,
     "metadata": {},
     "output_type": "execute_result"
    }
   ],
   "source": [
    "df.describe()"
   ]
  },
  {
   "cell_type": "markdown",
   "metadata": {},
   "source": [
    "Representa cada una de la características"
   ]
  },
  {
   "cell_type": "code",
   "execution_count": 69,
   "metadata": {},
   "outputs": [
    {
     "name": "stderr",
     "output_type": "stream",
     "text": [
      "C:\\Users\\elena\\AppData\\Local\\Temp\\ipykernel_10896\\172215315.py:4: UserWarning: set_ticklabels() should only be used with a fixed number of ticks, i.e. after set_ticks() or using a FixedLocator.\n",
      "  sns.countplot(data=df,x='sex',ax=ax[0]).set_xticklabels(labels=['male','female'])\n"
     ]
    },
    {
     "data": {
      "image/png": "[encoded data removed]",
      "text/plain": [
       "<Figure size 1500x1700 with 12 Axes>"
      ]
     },
     "metadata": {},
     "output_type": "display_data"
    }
   ],
   "source": [
    "fig,ax = plt.subplots(6,2, figsize=(15,17))\n",
    "ax = ax.flatten()      \n",
    "cols_num = ['age', 'bmi', 'bp', 's1', 's2', 's3', 's4', 's5', 's6','progres']\n",
    "sns.countplot(data=df,x='sex',ax=ax[0]).set_xticklabels(labels=['male','female'])\n",
    "i = 1\n",
    "for col in cols_num:\n",
    "    sns.histplot(data=df, x=col, ax=ax[i], bins=15, legend=None)\n",
    "    #ax[i].set_title(col)\n",
    "    i+=1\n",
    "\n",
    "plt.tight_layout()\n",
    "plt.show()"
   ]
  },
  {
   "cell_type": "code",
   "execution_count": 70,
   "metadata": {},
   "outputs": [
    {
     "data": {
      "image/png": "[encoded data removed]",
      "text/plain": [
       "<Figure size 1500x1700 with 12 Axes>"
      ]
     },
     "metadata": {},
     "output_type": "display_data"
    }
   ],
   "source": [
    "fig,ax = plt.subplots(6,2, figsize=(15,17))\n",
    "ax = ax.flatten()      \n",
    "cols_num = ['age', 'bmi', 'bp', 's1', 's2', 's3', 's4', 's5', 's6','progres']\n",
    "sns.countplot(data=df,x='sex',ax=ax[0])#.set_xticklabels(labels=['male','female'])\n",
    "i = 1\n",
    "for col in cols_num:\n",
    "    sns.histplot(data=df, x=col, ax=ax[i], bins=15, hue='sex')\n",
    "    i+=1\n",
    "\n",
    "plt.tight_layout()\n",
    "plt.show()"
   ]
  },
  {
   "cell_type": "markdown",
   "metadata": {},
   "source": [
    "Muestra la matriz de correlaciones"
   ]
  },
  {
   "cell_type": "code",
   "execution_count": 71,
   "metadata": {},
   "outputs": [
    {
     "data": {
      "text/html": [
       "<style type=\"text/css\">\n",
       "#T_ba02c_row0_col0, #T_ba02c_row1_col1, #T_ba02c_row2_col2, #T_ba02c_row3_col3, #T_ba02c_row4_col4, #T_ba02c_row5_col5, #T_ba02c_row6_col6, #T_ba02c_row7_col7, #T_ba02c_row8_col8, #T_ba02c_row9_col9, #T_ba02c_row10_col10 {\n",
       "  background-color: #023858;\n",
       "  color: #f1f1f1;\n",
       "}\n",
       "#T_ba02c_row0_col1 {\n",
       "  background-color: #9cb9d9;\n",
       "  color: #000000;\n",
       "}\n",
       "#T_ba02c_row0_col2 {\n",
       "  background-color: #9ab8d8;\n",
       "  color: #000000;\n",
       "}\n",
       "#T_ba02c_row0_col3, #T_ba02c_row4_col10 {\n",
       "  background-color: #8eb3d5;\n",
       "  color: #000000;\n",
       "}\n",
       "#T_ba02c_row0_col4, #T_ba02c_row1_col0 {\n",
       "  background-color: #d4d4e8;\n",
       "  color: #000000;\n",
       "}\n",
       "#T_ba02c_row0_col5 {\n",
       "  background-color: #b0c2de;\n",
       "  color: #000000;\n",
       "}\n",
       "#T_ba02c_row0_col6, #T_ba02c_row2_col5, #T_ba02c_row3_col0 {\n",
       "  background-color: #a4bcda;\n",
       "  color: #000000;\n",
       "}\n",
       "#T_ba02c_row0_col7, #T_ba02c_row7_col9 {\n",
       "  background-color: #60a1ca;\n",
       "  color: #f1f1f1;\n",
       "}\n",
       "#T_ba02c_row0_col8 {\n",
       "  background-color: #7dacd1;\n",
       "  color: #f1f1f1;\n",
       "}\n",
       "#T_ba02c_row0_col9, #T_ba02c_row3_col1, #T_ba02c_row4_col2 {\n",
       "  background-color: #88b1d4;\n",
       "  color: #000000;\n",
       "}\n",
       "#T_ba02c_row0_col10 {\n",
       "  background-color: #96b6d7;\n",
       "  color: #000000;\n",
       "}\n",
       "#T_ba02c_row1_col2 {\n",
       "  background-color: #b4c4df;\n",
       "  color: #000000;\n",
       "}\n",
       "#T_ba02c_row1_col3, #T_ba02c_row4_col3 {\n",
       "  background-color: #acc0dd;\n",
       "  color: #000000;\n",
       "}\n",
       "#T_ba02c_row1_col4, #T_ba02c_row6_col0, #T_ba02c_row6_col1, #T_ba02c_row6_col2, #T_ba02c_row6_col3, #T_ba02c_row6_col5, #T_ba02c_row6_col7, #T_ba02c_row6_col8, #T_ba02c_row6_col9, #T_ba02c_row6_col10, #T_ba02c_row7_col6 {\n",
       "  background-color: #fff7fb;\n",
       "  color: #000000;\n",
       "}\n",
       "#T_ba02c_row1_col5 {\n",
       "  background-color: #c5cce3;\n",
       "  color: #000000;\n",
       "}\n",
       "#T_ba02c_row1_col6 {\n",
       "  background-color: #dad9ea;\n",
       "  color: #000000;\n",
       "}\n",
       "#T_ba02c_row1_col7 {\n",
       "  background-color: #3b92c1;\n",
       "  color: #f1f1f1;\n",
       "}\n",
       "#T_ba02c_row1_col8 {\n",
       "  background-color: #9fbad9;\n",
       "  color: #000000;\n",
       "}\n",
       "#T_ba02c_row1_col9, #T_ba02c_row5_col1 {\n",
       "  background-color: #a5bddb;\n",
       "  color: #000000;\n",
       "}\n",
       "#T_ba02c_row1_col10 {\n",
       "  background-color: #bbc7e0;\n",
       "  color: #000000;\n",
       "}\n",
       "#T_ba02c_row2_col0 {\n",
       "  background-color: #d2d3e7;\n",
       "  color: #000000;\n",
       "}\n",
       "#T_ba02c_row2_col1 {\n",
       "  background-color: #b3c3de;\n",
       "  color: #000000;\n",
       "}\n",
       "#T_ba02c_row2_col3, #T_ba02c_row8_col3 {\n",
       "  background-color: #79abd0;\n",
       "  color: #f1f1f1;\n",
       "}\n",
       "#T_ba02c_row2_col4 {\n",
       "  background-color: #d7d6e9;\n",
       "  color: #000000;\n",
       "}\n",
       "#T_ba02c_row2_col6, #T_ba02c_row3_col4 {\n",
       "  background-color: #d9d8ea;\n",
       "  color: #000000;\n",
       "}\n",
       "#T_ba02c_row2_col7 {\n",
       "  background-color: #2786bb;\n",
       "  color: #f1f1f1;\n",
       "}\n",
       "#T_ba02c_row2_col8 {\n",
       "  background-color: #4094c3;\n",
       "  color: #f1f1f1;\n",
       "}\n",
       "#T_ba02c_row2_col9, #T_ba02c_row3_col9 {\n",
       "  background-color: #69a5cc;\n",
       "  color: #f1f1f1;\n",
       "}\n",
       "#T_ba02c_row2_col10 {\n",
       "  background-color: #167bb6;\n",
       "  color: #f1f1f1;\n",
       "}\n",
       "#T_ba02c_row3_col2, #T_ba02c_row9_col10 {\n",
       "  background-color: #589ec8;\n",
       "  color: #f1f1f1;\n",
       "}\n",
       "#T_ba02c_row3_col5 {\n",
       "  background-color: #b9c6e0;\n",
       "  color: #000000;\n",
       "}\n",
       "#T_ba02c_row3_col6, #T_ba02c_row8_col0 {\n",
       "  background-color: #b8c6e0;\n",
       "  color: #000000;\n",
       "}\n",
       "#T_ba02c_row3_col7, #T_ba02c_row7_col2 {\n",
       "  background-color: #509ac6;\n",
       "  color: #f1f1f1;\n",
       "}\n",
       "#T_ba02c_row3_col8 {\n",
       "  background-color: #549cc7;\n",
       "  color: #f1f1f1;\n",
       "}\n",
       "#T_ba02c_row3_col10 {\n",
       "  background-color: #4295c3;\n",
       "  color: #f1f1f1;\n",
       "}\n",
       "#T_ba02c_row4_col0, #T_ba02c_row5_col3, #T_ba02c_row5_col6, #T_ba02c_row10_col5 {\n",
       "  background-color: #bcc7e1;\n",
       "  color: #000000;\n",
       "}\n",
       "#T_ba02c_row4_col1 {\n",
       "  background-color: #c0c9e2;\n",
       "  color: #000000;\n",
       "}\n",
       "#T_ba02c_row4_col5 {\n",
       "  background-color: #034f7d;\n",
       "  color: #f1f1f1;\n",
       "}\n",
       "#T_ba02c_row4_col6 {\n",
       "  background-color: #86b0d3;\n",
       "  color: #000000;\n",
       "}\n",
       "#T_ba02c_row4_col7 {\n",
       "  background-color: #0a73b2;\n",
       "  color: #f1f1f1;\n",
       "}\n",
       "#T_ba02c_row4_col8 {\n",
       "  background-color: #2a88bc;\n",
       "  color: #f1f1f1;\n",
       "}\n",
       "#T_ba02c_row4_col9 {\n",
       "  background-color: #80aed2;\n",
       "  color: #f1f1f1;\n",
       "}\n",
       "#T_ba02c_row5_col0 {\n",
       "  background-color: #c8cde4;\n",
       "  color: #000000;\n",
       "}\n",
       "#T_ba02c_row5_col2 {\n",
       "  background-color: #84b0d3;\n",
       "  color: #f1f1f1;\n",
       "}\n",
       "#T_ba02c_row5_col4 {\n",
       "  background-color: #045585;\n",
       "  color: #f1f1f1;\n",
       "}\n",
       "#T_ba02c_row5_col7 {\n",
       "  background-color: #0567a1;\n",
       "  color: #f1f1f1;\n",
       "}\n",
       "#T_ba02c_row5_col8, #T_ba02c_row10_col9 {\n",
       "  background-color: #6da6cd;\n",
       "  color: #f1f1f1;\n",
       "}\n",
       "#T_ba02c_row5_col9 {\n",
       "  background-color: #8bb2d4;\n",
       "  color: #000000;\n",
       "}\n",
       "#T_ba02c_row5_col10, #T_ba02c_row9_col5 {\n",
       "  background-color: #99b8d8;\n",
       "  color: #000000;\n",
       "}\n",
       "#T_ba02c_row6_col4 {\n",
       "  background-color: #fdf5fa;\n",
       "  color: #000000;\n",
       "}\n",
       "#T_ba02c_row7_col0 {\n",
       "  background-color: #cdd0e5;\n",
       "  color: #000000;\n",
       "}\n",
       "#T_ba02c_row7_col1 {\n",
       "  background-color: #6ba5cd;\n",
       "  color: #f1f1f1;\n",
       "}\n",
       "#T_ba02c_row7_col3 {\n",
       "  background-color: #a8bedc;\n",
       "  color: #000000;\n",
       "}\n",
       "#T_ba02c_row7_col4, #T_ba02c_row10_col3 {\n",
       "  background-color: #67a4cc;\n",
       "  color: #f1f1f1;\n",
       "}\n",
       "#T_ba02c_row7_col5 {\n",
       "  background-color: #1278b4;\n",
       "  color: #f1f1f1;\n",
       "}\n",
       "#T_ba02c_row7_col8 {\n",
       "  background-color: #0d75b3;\n",
       "  color: #f1f1f1;\n",
       "}\n",
       "#T_ba02c_row7_col10 {\n",
       "  background-color: #4697c4;\n",
       "  color: #f1f1f1;\n",
       "}\n",
       "#T_ba02c_row8_col1 {\n",
       "  background-color: #a2bcda;\n",
       "  color: #000000;\n",
       "}\n",
       "#T_ba02c_row8_col2 {\n",
       "  background-color: #4496c3;\n",
       "  color: #f1f1f1;\n",
       "}\n",
       "#T_ba02c_row8_col4 {\n",
       "  background-color: #75a9cf;\n",
       "  color: #f1f1f1;\n",
       "}\n",
       "#T_ba02c_row8_col5 {\n",
       "  background-color: #8fb4d6;\n",
       "  color: #000000;\n",
       "}\n",
       "#T_ba02c_row8_col6, #T_ba02c_row10_col6 {\n",
       "  background-color: #dcdaeb;\n",
       "  color: #000000;\n",
       "}\n",
       "#T_ba02c_row8_col7 {\n",
       "  background-color: #056ba7;\n",
       "  color: #f1f1f1;\n",
       "}\n",
       "#T_ba02c_row8_col9 {\n",
       "  background-color: #4c99c5;\n",
       "  color: #f1f1f1;\n",
       "}\n",
       "#T_ba02c_row8_col10, #T_ba02c_row10_col8 {\n",
       "  background-color: #1c7fb8;\n",
       "  color: #f1f1f1;\n",
       "}\n",
       "#T_ba02c_row9_col0 {\n",
       "  background-color: #afc1dd;\n",
       "  color: #000000;\n",
       "}\n",
       "#T_ba02c_row9_col1 {\n",
       "  background-color: #91b5d6;\n",
       "  color: #000000;\n",
       "}\n",
       "#T_ba02c_row9_col2 {\n",
       "  background-color: #5a9ec9;\n",
       "  color: #f1f1f1;\n",
       "}\n",
       "#T_ba02c_row9_col3 {\n",
       "  background-color: #7bacd1;\n",
       "  color: #f1f1f1;\n",
       "}\n",
       "#T_ba02c_row9_col4 {\n",
       "  background-color: #bfc9e1;\n",
       "  color: #000000;\n",
       "}\n",
       "#T_ba02c_row9_col6 {\n",
       "  background-color: #cacee5;\n",
       "  color: #000000;\n",
       "}\n",
       "#T_ba02c_row9_col7 {\n",
       "  background-color: #2685bb;\n",
       "  color: #f1f1f1;\n",
       "}\n",
       "#T_ba02c_row9_col8 {\n",
       "  background-color: #3991c1;\n",
       "  color: #f1f1f1;\n",
       "}\n",
       "#T_ba02c_row10_col0 {\n",
       "  background-color: #d2d2e7;\n",
       "  color: #000000;\n",
       "}\n",
       "#T_ba02c_row10_col1 {\n",
       "  background-color: #bdc8e1;\n",
       "  color: #000000;\n",
       "}\n",
       "#T_ba02c_row10_col2 {\n",
       "  background-color: #197db7;\n",
       "  color: #f1f1f1;\n",
       "}\n",
       "#T_ba02c_row10_col4 {\n",
       "  background-color: #e0dded;\n",
       "  color: #000000;\n",
       "}\n",
       "#T_ba02c_row10_col7 {\n",
       "  background-color: #2383ba;\n",
       "  color: #f1f1f1;\n",
       "}\n",
       "</style>\n",
       "<table id=\"T_ba02c\">\n",
       "  <thead>\n",
       "    <tr>\n",
       "      <th class=\"blank level0\" >&nbsp;</th>\n",
       "      <th id=\"T_ba02c_level0_col0\" class=\"col_heading level0 col0\" >age</th>\n",
       "      <th id=\"T_ba02c_level0_col1\" class=\"col_heading level0 col1\" >sex</th>\n",
       "      <th id=\"T_ba02c_level0_col2\" class=\"col_heading level0 col2\" >bmi</th>\n",
       "      <th id=\"T_ba02c_level0_col3\" class=\"col_heading level0 col3\" >bp</th>\n",
       "      <th id=\"T_ba02c_level0_col4\" class=\"col_heading level0 col4\" >s1</th>\n",
       "      <th id=\"T_ba02c_level0_col5\" class=\"col_heading level0 col5\" >s2</th>\n",
       "      <th id=\"T_ba02c_level0_col6\" class=\"col_heading level0 col6\" >s3</th>\n",
       "      <th id=\"T_ba02c_level0_col7\" class=\"col_heading level0 col7\" >s4</th>\n",
       "      <th id=\"T_ba02c_level0_col8\" class=\"col_heading level0 col8\" >s5</th>\n",
       "      <th id=\"T_ba02c_level0_col9\" class=\"col_heading level0 col9\" >s6</th>\n",
       "      <th id=\"T_ba02c_level0_col10\" class=\"col_heading level0 col10\" >progres</th>\n",
       "    </tr>\n",
       "  </thead>\n",
       "  <tbody>\n",
       "    <tr>\n",
       "      <th id=\"T_ba02c_level0_row0\" class=\"row_heading level0 row0\" >age</th>\n",
       "      <td id=\"T_ba02c_row0_col0\" class=\"data row0 col0\" >1.000000</td>\n",
       "      <td id=\"T_ba02c_row0_col1\" class=\"data row0 col1\" >0.173737</td>\n",
       "      <td id=\"T_ba02c_row0_col2\" class=\"data row0 col2\" >0.185085</td>\n",
       "      <td id=\"T_ba02c_row0_col3\" class=\"data row0 col3\" >0.335428</td>\n",
       "      <td id=\"T_ba02c_row0_col4\" class=\"data row0 col4\" >0.260061</td>\n",
       "      <td id=\"T_ba02c_row0_col5\" class=\"data row0 col5\" >0.219243</td>\n",
       "      <td id=\"T_ba02c_row0_col6\" class=\"data row0 col6\" >-0.075181</td>\n",
       "      <td id=\"T_ba02c_row0_col7\" class=\"data row0 col7\" >0.203841</td>\n",
       "      <td id=\"T_ba02c_row0_col8\" class=\"data row0 col8\" >0.270774</td>\n",
       "      <td id=\"T_ba02c_row0_col9\" class=\"data row0 col9\" >0.301731</td>\n",
       "      <td id=\"T_ba02c_row0_col10\" class=\"data row0 col10\" >0.187889</td>\n",
       "    </tr>\n",
       "    <tr>\n",
       "      <th id=\"T_ba02c_level0_row1\" class=\"row_heading level0 row1\" >sex</th>\n",
       "      <td id=\"T_ba02c_row1_col0\" class=\"data row1 col0\" >0.173737</td>\n",
       "      <td id=\"T_ba02c_row1_col1\" class=\"data row1 col1\" >1.000000</td>\n",
       "      <td id=\"T_ba02c_row1_col2\" class=\"data row1 col2\" >0.088161</td>\n",
       "      <td id=\"T_ba02c_row1_col3\" class=\"data row1 col3\" >0.241010</td>\n",
       "      <td id=\"T_ba02c_row1_col4\" class=\"data row1 col4\" >0.035277</td>\n",
       "      <td id=\"T_ba02c_row1_col5\" class=\"data row1 col5\" >0.142637</td>\n",
       "      <td id=\"T_ba02c_row1_col6\" class=\"data row1 col6\" >-0.379090</td>\n",
       "      <td id=\"T_ba02c_row1_col7\" class=\"data row1 col7\" >0.332115</td>\n",
       "      <td id=\"T_ba02c_row1_col8\" class=\"data row1 col8\" >0.149916</td>\n",
       "      <td id=\"T_ba02c_row1_col9\" class=\"data row1 col9\" >0.208133</td>\n",
       "      <td id=\"T_ba02c_row1_col10\" class=\"data row1 col10\" >0.043062</td>\n",
       "    </tr>\n",
       "    <tr>\n",
       "      <th id=\"T_ba02c_level0_row2\" class=\"row_heading level0 row2\" >bmi</th>\n",
       "      <td id=\"T_ba02c_row2_col0\" class=\"data row2 col0\" >0.185085</td>\n",
       "      <td id=\"T_ba02c_row2_col1\" class=\"data row2 col1\" >0.088161</td>\n",
       "      <td id=\"T_ba02c_row2_col2\" class=\"data row2 col2\" >1.000000</td>\n",
       "      <td id=\"T_ba02c_row2_col3\" class=\"data row2 col3\" >0.395411</td>\n",
       "      <td id=\"T_ba02c_row2_col4\" class=\"data row2 col4\" >0.249777</td>\n",
       "      <td id=\"T_ba02c_row2_col5\" class=\"data row2 col5\" >0.261170</td>\n",
       "      <td id=\"T_ba02c_row2_col6\" class=\"data row2 col6\" >-0.366811</td>\n",
       "      <td id=\"T_ba02c_row2_col7\" class=\"data row2 col7\" >0.413807</td>\n",
       "      <td id=\"T_ba02c_row2_col8\" class=\"data row2 col8\" >0.446157</td>\n",
       "      <td id=\"T_ba02c_row2_col9\" class=\"data row2 col9\" >0.388680</td>\n",
       "      <td id=\"T_ba02c_row2_col10\" class=\"data row2 col10\" >0.586450</td>\n",
       "    </tr>\n",
       "    <tr>\n",
       "      <th id=\"T_ba02c_level0_row3\" class=\"row_heading level0 row3\" >bp</th>\n",
       "      <td id=\"T_ba02c_row3_col0\" class=\"data row3 col0\" >0.335428</td>\n",
       "      <td id=\"T_ba02c_row3_col1\" class=\"data row3 col1\" >0.241010</td>\n",
       "      <td id=\"T_ba02c_row3_col2\" class=\"data row3 col2\" >0.395411</td>\n",
       "      <td id=\"T_ba02c_row3_col3\" class=\"data row3 col3\" >1.000000</td>\n",
       "      <td id=\"T_ba02c_row3_col4\" class=\"data row3 col4\" >0.242464</td>\n",
       "      <td id=\"T_ba02c_row3_col5\" class=\"data row3 col5\" >0.185548</td>\n",
       "      <td id=\"T_ba02c_row3_col6\" class=\"data row3 col6\" >-0.178762</td>\n",
       "      <td id=\"T_ba02c_row3_col7\" class=\"data row3 col7\" >0.257650</td>\n",
       "      <td id=\"T_ba02c_row3_col8\" class=\"data row3 col8\" >0.393480</td>\n",
       "      <td id=\"T_ba02c_row3_col9\" class=\"data row3 col9\" >0.390430</td>\n",
       "      <td id=\"T_ba02c_row3_col10\" class=\"data row3 col10\" >0.441482</td>\n",
       "    </tr>\n",
       "    <tr>\n",
       "      <th id=\"T_ba02c_level0_row4\" class=\"row_heading level0 row4\" >s1</th>\n",
       "      <td id=\"T_ba02c_row4_col0\" class=\"data row4 col0\" >0.260061</td>\n",
       "      <td id=\"T_ba02c_row4_col1\" class=\"data row4 col1\" >0.035277</td>\n",
       "      <td id=\"T_ba02c_row4_col2\" class=\"data row4 col2\" >0.249777</td>\n",
       "      <td id=\"T_ba02c_row4_col3\" class=\"data row4 col3\" >0.242464</td>\n",
       "      <td id=\"T_ba02c_row4_col4\" class=\"data row4 col4\" >1.000000</td>\n",
       "      <td id=\"T_ba02c_row4_col5\" class=\"data row4 col5\" >0.896663</td>\n",
       "      <td id=\"T_ba02c_row4_col6\" class=\"data row4 col6\" >0.051519</td>\n",
       "      <td id=\"T_ba02c_row4_col7\" class=\"data row4 col7\" >0.542207</td>\n",
       "      <td id=\"T_ba02c_row4_col8\" class=\"data row4 col8\" >0.515503</td>\n",
       "      <td id=\"T_ba02c_row4_col9\" class=\"data row4 col9\" >0.325717</td>\n",
       "      <td id=\"T_ba02c_row4_col10\" class=\"data row4 col10\" >0.212022</td>\n",
       "    </tr>\n",
       "    <tr>\n",
       "      <th id=\"T_ba02c_level0_row5\" class=\"row_heading level0 row5\" >s2</th>\n",
       "      <td id=\"T_ba02c_row5_col0\" class=\"data row5 col0\" >0.219243</td>\n",
       "      <td id=\"T_ba02c_row5_col1\" class=\"data row5 col1\" >0.142637</td>\n",
       "      <td id=\"T_ba02c_row5_col2\" class=\"data row5 col2\" >0.261170</td>\n",
       "      <td id=\"T_ba02c_row5_col3\" class=\"data row5 col3\" >0.185548</td>\n",
       "      <td id=\"T_ba02c_row5_col4\" class=\"data row5 col4\" >0.896663</td>\n",
       "      <td id=\"T_ba02c_row5_col5\" class=\"data row5 col5\" >1.000000</td>\n",
       "      <td id=\"T_ba02c_row5_col6\" class=\"data row5 col6\" >-0.196455</td>\n",
       "      <td id=\"T_ba02c_row5_col7\" class=\"data row5 col7\" >0.659817</td>\n",
       "      <td id=\"T_ba02c_row5_col8\" class=\"data row5 col8\" >0.318357</td>\n",
       "      <td id=\"T_ba02c_row5_col9\" class=\"data row5 col9\" >0.290600</td>\n",
       "      <td id=\"T_ba02c_row5_col10\" class=\"data row5 col10\" >0.174054</td>\n",
       "    </tr>\n",
       "    <tr>\n",
       "      <th id=\"T_ba02c_level0_row6\" class=\"row_heading level0 row6\" >s3</th>\n",
       "      <td id=\"T_ba02c_row6_col0\" class=\"data row6 col0\" >-0.075181</td>\n",
       "      <td id=\"T_ba02c_row6_col1\" class=\"data row6 col1\" >-0.379090</td>\n",
       "      <td id=\"T_ba02c_row6_col2\" class=\"data row6 col2\" >-0.366811</td>\n",
       "      <td id=\"T_ba02c_row6_col3\" class=\"data row6 col3\" >-0.178762</td>\n",
       "      <td id=\"T_ba02c_row6_col4\" class=\"data row6 col4\" >0.051519</td>\n",
       "      <td id=\"T_ba02c_row6_col5\" class=\"data row6 col5\" >-0.196455</td>\n",
       "      <td id=\"T_ba02c_row6_col6\" class=\"data row6 col6\" >1.000000</td>\n",
       "      <td id=\"T_ba02c_row6_col7\" class=\"data row6 col7\" >-0.738493</td>\n",
       "      <td id=\"T_ba02c_row6_col8\" class=\"data row6 col8\" >-0.398577</td>\n",
       "      <td id=\"T_ba02c_row6_col9\" class=\"data row6 col9\" >-0.273697</td>\n",
       "      <td id=\"T_ba02c_row6_col10\" class=\"data row6 col10\" >-0.394789</td>\n",
       "    </tr>\n",
       "    <tr>\n",
       "      <th id=\"T_ba02c_level0_row7\" class=\"row_heading level0 row7\" >s4</th>\n",
       "      <td id=\"T_ba02c_row7_col0\" class=\"data row7 col0\" >0.203841</td>\n",
       "      <td id=\"T_ba02c_row7_col1\" class=\"data row7 col1\" >0.332115</td>\n",
       "      <td id=\"T_ba02c_row7_col2\" class=\"data row7 col2\" >0.413807</td>\n",
       "      <td id=\"T_ba02c_row7_col3\" class=\"data row7 col3\" >0.257650</td>\n",
       "      <td id=\"T_ba02c_row7_col4\" class=\"data row7 col4\" >0.542207</td>\n",
       "      <td id=\"T_ba02c_row7_col5\" class=\"data row7 col5\" >0.659817</td>\n",
       "      <td id=\"T_ba02c_row7_col6\" class=\"data row7 col6\" >-0.738493</td>\n",
       "      <td id=\"T_ba02c_row7_col7\" class=\"data row7 col7\" >1.000000</td>\n",
       "      <td id=\"T_ba02c_row7_col8\" class=\"data row7 col8\" >0.617859</td>\n",
       "      <td id=\"T_ba02c_row7_col9\" class=\"data row7 col9\" >0.417212</td>\n",
       "      <td id=\"T_ba02c_row7_col10\" class=\"data row7 col10\" >0.430453</td>\n",
       "    </tr>\n",
       "    <tr>\n",
       "      <th id=\"T_ba02c_level0_row8\" class=\"row_heading level0 row8\" >s5</th>\n",
       "      <td id=\"T_ba02c_row8_col0\" class=\"data row8 col0\" >0.270774</td>\n",
       "      <td id=\"T_ba02c_row8_col1\" class=\"data row8 col1\" >0.149916</td>\n",
       "      <td id=\"T_ba02c_row8_col2\" class=\"data row8 col2\" >0.446157</td>\n",
       "      <td id=\"T_ba02c_row8_col3\" class=\"data row8 col3\" >0.393480</td>\n",
       "      <td id=\"T_ba02c_row8_col4\" class=\"data row8 col4\" >0.515503</td>\n",
       "      <td id=\"T_ba02c_row8_col5\" class=\"data row8 col5\" >0.318357</td>\n",
       "      <td id=\"T_ba02c_row8_col6\" class=\"data row8 col6\" >-0.398577</td>\n",
       "      <td id=\"T_ba02c_row8_col7\" class=\"data row8 col7\" >0.617859</td>\n",
       "      <td id=\"T_ba02c_row8_col8\" class=\"data row8 col8\" >1.000000</td>\n",
       "      <td id=\"T_ba02c_row8_col9\" class=\"data row8 col9\" >0.464669</td>\n",
       "      <td id=\"T_ba02c_row8_col10\" class=\"data row8 col10\" >0.565883</td>\n",
       "    </tr>\n",
       "    <tr>\n",
       "      <th id=\"T_ba02c_level0_row9\" class=\"row_heading level0 row9\" >s6</th>\n",
       "      <td id=\"T_ba02c_row9_col0\" class=\"data row9 col0\" >0.301731</td>\n",
       "      <td id=\"T_ba02c_row9_col1\" class=\"data row9 col1\" >0.208133</td>\n",
       "      <td id=\"T_ba02c_row9_col2\" class=\"data row9 col2\" >0.388680</td>\n",
       "      <td id=\"T_ba02c_row9_col3\" class=\"data row9 col3\" >0.390430</td>\n",
       "      <td id=\"T_ba02c_row9_col4\" class=\"data row9 col4\" >0.325717</td>\n",
       "      <td id=\"T_ba02c_row9_col5\" class=\"data row9 col5\" >0.290600</td>\n",
       "      <td id=\"T_ba02c_row9_col6\" class=\"data row9 col6\" >-0.273697</td>\n",
       "      <td id=\"T_ba02c_row9_col7\" class=\"data row9 col7\" >0.417212</td>\n",
       "      <td id=\"T_ba02c_row9_col8\" class=\"data row9 col8\" >0.464669</td>\n",
       "      <td id=\"T_ba02c_row9_col9\" class=\"data row9 col9\" >1.000000</td>\n",
       "      <td id=\"T_ba02c_row9_col10\" class=\"data row9 col10\" >0.382483</td>\n",
       "    </tr>\n",
       "    <tr>\n",
       "      <th id=\"T_ba02c_level0_row10\" class=\"row_heading level0 row10\" >progres</th>\n",
       "      <td id=\"T_ba02c_row10_col0\" class=\"data row10 col0\" >0.187889</td>\n",
       "      <td id=\"T_ba02c_row10_col1\" class=\"data row10 col1\" >0.043062</td>\n",
       "      <td id=\"T_ba02c_row10_col2\" class=\"data row10 col2\" >0.586450</td>\n",
       "      <td id=\"T_ba02c_row10_col3\" class=\"data row10 col3\" >0.441482</td>\n",
       "      <td id=\"T_ba02c_row10_col4\" class=\"data row10 col4\" >0.212022</td>\n",
       "      <td id=\"T_ba02c_row10_col5\" class=\"data row10 col5\" >0.174054</td>\n",
       "      <td id=\"T_ba02c_row10_col6\" class=\"data row10 col6\" >-0.394789</td>\n",
       "      <td id=\"T_ba02c_row10_col7\" class=\"data row10 col7\" >0.430453</td>\n",
       "      <td id=\"T_ba02c_row10_col8\" class=\"data row10 col8\" >0.565883</td>\n",
       "      <td id=\"T_ba02c_row10_col9\" class=\"data row10 col9\" >0.382483</td>\n",
       "      <td id=\"T_ba02c_row10_col10\" class=\"data row10 col10\" >1.000000</td>\n",
       "    </tr>\n",
       "  </tbody>\n",
       "</table>\n"
      ],
      "text/plain": [
       "<pandas.io.formats.style.Styler at 0x22f79b61410>"
      ]
     },
     "execution_count": 71,
     "metadata": {},
     "output_type": "execute_result"
    }
   ],
   "source": [
    "corr_matrix = df.corr(numeric_only=True)\n",
    "corr_matrix.style.background_gradient()"
   ]
  },
  {
   "cell_type": "markdown",
   "metadata": {},
   "source": [
    "#### DIVIDIR LOS DATOS"
   ]
  },
  {
   "cell_type": "code",
   "execution_count": 8,
   "metadata": {},
   "outputs": [
    {
     "data": {
      "text/html": [
       "<div>\n",
       "<style scoped>\n",
       "    .dataframe tbody tr th:only-of-type {\n",
       "        vertical-align: middle;\n",
       "    }\n",
       "\n",
       "    .dataframe tbody tr th {\n",
       "        vertical-align: top;\n",
       "    }\n",
       "\n",
       "    .dataframe thead th {\n",
       "        text-align: right;\n",
       "    }\n",
       "</style>\n",
       "<table border=\"1\" class=\"dataframe\">\n",
       "  <thead>\n",
       "    <tr style=\"text-align: right;\">\n",
       "      <th></th>\n",
       "      <th>age</th>\n",
       "      <th>sex</th>\n",
       "      <th>bmi</th>\n",
       "      <th>bp</th>\n",
       "      <th>s1</th>\n",
       "      <th>s2</th>\n",
       "      <th>s3</th>\n",
       "      <th>s4</th>\n",
       "      <th>s5</th>\n",
       "      <th>s6</th>\n",
       "    </tr>\n",
       "  </thead>\n",
       "  <tbody>\n",
       "    <tr>\n",
       "      <th>324</th>\n",
       "      <td>0.030811</td>\n",
       "      <td>-0.044642</td>\n",
       "      <td>0.005650</td>\n",
       "      <td>0.011544</td>\n",
       "      <td>0.078236</td>\n",
       "      <td>0.077913</td>\n",
       "      <td>-0.043401</td>\n",
       "      <td>0.108111</td>\n",
       "      <td>0.066051</td>\n",
       "      <td>0.019633</td>\n",
       "    </tr>\n",
       "    <tr>\n",
       "      <th>284</th>\n",
       "      <td>0.041708</td>\n",
       "      <td>0.050680</td>\n",
       "      <td>-0.022373</td>\n",
       "      <td>0.028758</td>\n",
       "      <td>-0.066239</td>\n",
       "      <td>-0.045155</td>\n",
       "      <td>-0.061809</td>\n",
       "      <td>-0.002592</td>\n",
       "      <td>0.002861</td>\n",
       "      <td>-0.054925</td>\n",
       "    </tr>\n",
       "    <tr>\n",
       "      <th>8</th>\n",
       "      <td>0.041708</td>\n",
       "      <td>0.050680</td>\n",
       "      <td>0.061696</td>\n",
       "      <td>-0.040099</td>\n",
       "      <td>-0.013953</td>\n",
       "      <td>0.006202</td>\n",
       "      <td>-0.028674</td>\n",
       "      <td>-0.002592</td>\n",
       "      <td>-0.014960</td>\n",
       "      <td>0.011349</td>\n",
       "    </tr>\n",
       "    <tr>\n",
       "      <th>157</th>\n",
       "      <td>-0.001882</td>\n",
       "      <td>0.050680</td>\n",
       "      <td>-0.033151</td>\n",
       "      <td>-0.018306</td>\n",
       "      <td>0.031454</td>\n",
       "      <td>0.042840</td>\n",
       "      <td>-0.013948</td>\n",
       "      <td>0.019917</td>\n",
       "      <td>0.010227</td>\n",
       "      <td>0.027917</td>\n",
       "    </tr>\n",
       "    <tr>\n",
       "      <th>35</th>\n",
       "      <td>0.048974</td>\n",
       "      <td>0.050680</td>\n",
       "      <td>-0.030996</td>\n",
       "      <td>-0.049291</td>\n",
       "      <td>0.049341</td>\n",
       "      <td>-0.004132</td>\n",
       "      <td>0.133318</td>\n",
       "      <td>-0.053516</td>\n",
       "      <td>0.021311</td>\n",
       "      <td>0.019633</td>\n",
       "    </tr>\n",
       "    <tr>\n",
       "      <th>...</th>\n",
       "      <td>...</td>\n",
       "      <td>...</td>\n",
       "      <td>...</td>\n",
       "      <td>...</td>\n",
       "      <td>...</td>\n",
       "      <td>...</td>\n",
       "      <td>...</td>\n",
       "      <td>...</td>\n",
       "      <td>...</td>\n",
       "      <td>...</td>\n",
       "    </tr>\n",
       "    <tr>\n",
       "      <th>186</th>\n",
       "      <td>-0.081798</td>\n",
       "      <td>0.050680</td>\n",
       "      <td>0.042296</td>\n",
       "      <td>-0.019442</td>\n",
       "      <td>0.039710</td>\n",
       "      <td>0.057558</td>\n",
       "      <td>-0.069172</td>\n",
       "      <td>0.108111</td>\n",
       "      <td>0.047190</td>\n",
       "      <td>-0.038357</td>\n",
       "    </tr>\n",
       "    <tr>\n",
       "      <th>247</th>\n",
       "      <td>-0.081798</td>\n",
       "      <td>-0.044642</td>\n",
       "      <td>-0.081653</td>\n",
       "      <td>-0.040099</td>\n",
       "      <td>0.002559</td>\n",
       "      <td>-0.018537</td>\n",
       "      <td>0.070730</td>\n",
       "      <td>-0.039493</td>\n",
       "      <td>-0.010903</td>\n",
       "      <td>-0.092204</td>\n",
       "    </tr>\n",
       "    <tr>\n",
       "      <th>52</th>\n",
       "      <td>-0.052738</td>\n",
       "      <td>-0.044642</td>\n",
       "      <td>-0.009439</td>\n",
       "      <td>-0.005670</td>\n",
       "      <td>0.039710</td>\n",
       "      <td>0.044719</td>\n",
       "      <td>0.026550</td>\n",
       "      <td>-0.002592</td>\n",
       "      <td>-0.018114</td>\n",
       "      <td>-0.013504</td>\n",
       "    </tr>\n",
       "    <tr>\n",
       "      <th>77</th>\n",
       "      <td>-0.096328</td>\n",
       "      <td>-0.044642</td>\n",
       "      <td>-0.036385</td>\n",
       "      <td>-0.074527</td>\n",
       "      <td>-0.038720</td>\n",
       "      <td>-0.027618</td>\n",
       "      <td>0.015505</td>\n",
       "      <td>-0.039493</td>\n",
       "      <td>-0.074093</td>\n",
       "      <td>-0.001078</td>\n",
       "    </tr>\n",
       "    <tr>\n",
       "      <th>325</th>\n",
       "      <td>-0.001882</td>\n",
       "      <td>-0.044642</td>\n",
       "      <td>0.054152</td>\n",
       "      <td>-0.066506</td>\n",
       "      <td>0.072732</td>\n",
       "      <td>0.056619</td>\n",
       "      <td>-0.043401</td>\n",
       "      <td>0.084863</td>\n",
       "      <td>0.084492</td>\n",
       "      <td>0.048628</td>\n",
       "    </tr>\n",
       "  </tbody>\n",
       "</table>\n",
       "<p>353 rows × 10 columns</p>\n",
       "</div>"
      ],
      "text/plain": [
       "          age       sex       bmi        bp        s1        s2        s3  \\\n",
       "324  0.030811 -0.044642  0.005650  0.011544  0.078236  0.077913 -0.043401   \n",
       "284  0.041708  0.050680 -0.022373  0.028758 -0.066239 -0.045155 -0.061809   \n",
       "8    0.041708  0.050680  0.061696 -0.040099 -0.013953  0.006202 -0.028674   \n",
       "157 -0.001882  0.050680 -0.033151 -0.018306  0.031454  0.042840 -0.013948   \n",
       "35   0.048974  0.050680 -0.030996 -0.049291  0.049341 -0.004132  0.133318   \n",
       "..        ...       ...       ...       ...       ...       ...       ...   \n",
       "186 -0.081798  0.050680  0.042296 -0.019442  0.039710  0.057558 -0.069172   \n",
       "247 -0.081798 -0.044642 -0.081653 -0.040099  0.002559 -0.018537  0.070730   \n",
       "52  -0.052738 -0.044642 -0.009439 -0.005670  0.039710  0.044719  0.026550   \n",
       "77  -0.096328 -0.044642 -0.036385 -0.074527 -0.038720 -0.027618  0.015505   \n",
       "325 -0.001882 -0.044642  0.054152 -0.066506  0.072732  0.056619 -0.043401   \n",
       "\n",
       "           s4        s5        s6  \n",
       "324  0.108111  0.066051  0.019633  \n",
       "284 -0.002592  0.002861 -0.054925  \n",
       "8   -0.002592 -0.014960  0.011349  \n",
       "157  0.019917  0.010227  0.027917  \n",
       "35  -0.053516  0.021311  0.019633  \n",
       "..        ...       ...       ...  \n",
       "186  0.108111  0.047190 -0.038357  \n",
       "247 -0.039493 -0.010903 -0.092204  \n",
       "52  -0.002592 -0.018114 -0.013504  \n",
       "77  -0.039493 -0.074093 -0.001078  \n",
       "325  0.084863  0.084492  0.048628  \n",
       "\n",
       "[353 rows x 10 columns]"
      ]
     },
     "execution_count": 8,
     "metadata": {},
     "output_type": "execute_result"
    }
   ],
   "source": [
    "train_set_x, test_set_x, train_set_y, test_set_y = train_test_split(X,y,\n",
    "                            test_size=0.20, random_state=42,\n",
    "                            stratify=df['sex'])\n",
    "train_set_x"
   ]
  },
  {
   "cell_type": "markdown",
   "metadata": {},
   "source": [
    "#### PREPARAR LOS DATOS"
   ]
  },
  {
   "cell_type": "code",
   "execution_count": 31,
   "metadata": {},
   "outputs": [],
   "source": [
    "cols = X.drop('sex', axis=1).columns\n",
    "# pipelines\n",
    "num_pipeline = make_pipeline(\n",
    "    SimpleImputer(strategy='mean'), \n",
    "    StandardScaler())\n",
    "sex_pipeline = make_pipeline(\n",
    "    SimpleImputer(strategy='most_frequent'),\n",
    "    StandardScaler()\n",
    ")\n",
    "\n",
    "# megapipeline\n",
    "pipeline = ColumnTransformer([\n",
    "     ('sex', sex_pipeline, ['sex']),\n",
    "     ('num', num_pipeline, cols)\n",
    " ],\n",
    " verbose_feature_names_out=False\n",
    ")\n",
    "\n"
   ]
  },
  {
   "cell_type": "markdown",
   "metadata": {},
   "source": [
    "### ENTRENAMIENTO Y EVALUACIÓN DEL MODELO"
   ]
  },
  {
   "cell_type": "markdown",
   "metadata": {},
   "source": [
    "Crea y entrena el modelo con diferentes algoritmos y muestra los resultados obtenidos con validación cruzada y utilizando la métrica RMSE para medir el error"
   ]
  },
  {
   "cell_type": "code",
   "execution_count": null,
   "metadata": {},
   "outputs": [
    {
     "name": "stdout",
     "output_type": "stream",
     "text": [
      "RMSE Regresión Lineal: 54.51446578633823\n",
      "RMSE Random forest: 62.04673373465206\n"
     ]
    },
    {
     "name": "stderr",
     "output_type": "stream",
     "text": [
      "c:\\Python311\\Lib\\site-packages\\sklearn\\model_selection\\_split.py:776: UserWarning: The least populated class in y has only 1 members, which is less than n_splits=5.\n",
      "  warnings.warn(\n"
     ]
    },
    {
     "name": "stdout",
     "output_type": "stream",
     "text": [
      "RMSE Regresión Logística: 76.92826208281423\n",
      "RMSE Ridge: 54.5185279331503\n",
      "RMSE Lasso: 54.76081793895125\n"
     ]
    }
   ],
   "source": [
    "modelos = {\n",
    "    'Regresión Lineal': LinearRegression(),\n",
    "    'Random forest': RandomForestRegressor(n_estimators=5, random_state=42),\n",
    "    'Regresión Logística': LogisticRegression(random_state=42, max_iter=650),\n",
    "    'Ridge':Ridge(),\n",
    "    'Lasso':Lasso()\n",
    "}\n",
    "\n",
    "for key, modelo in modelos.items():\n",
    "\n",
    "    pipe = make_pipeline(pipeline,modelo)    \n",
    "    y_pred = cross_val_predict(pipe, train_set_x, train_set_y, cv=5)    \n",
    "    rmse = np.sqrt(mean_squared_error(train_set_y, y_pred))\n",
    "    print('RMSE {}: {}'.format(key,rmse))"
   ]
  },
  {
   "cell_type": "markdown",
   "metadata": {},
   "source": [
    "Calcula el máximo de y (del dataset original) y el mínimo de y (del dataset original) para ver con prespectiva si RMSE es aceptable o no."
   ]
  },
  {
   "cell_type": "code",
   "execution_count": null,
   "metadata": {},
   "outputs": [
    {
     "name": "stdout",
     "output_type": "stream",
     "text": [
      "Max: 346.0 \n",
      "Min: 25.0\n",
      "Total: 321.0\n"
     ]
    }
   ],
   "source": [
    "y_max = np.max(y)\n",
    "y_min = np.min(y)\n",
    "print('Max: {} \\nMin: {}'.format(y_max,y_min))"
   ]
  },
  {
   "cell_type": "markdown",
   "metadata": {},
   "source": [
    "### OPTIMIZACIÓN DEL MODELO"
   ]
  },
  {
   "cell_type": "markdown",
   "metadata": {},
   "source": [
    "Vamos a suponer que el mejor modelo que has obtenido es con Ridge y vamoas a aplicar búsqueda exhaustiva para el parámetro alpha."
   ]
  },
  {
   "cell_type": "code",
   "execution_count": 37,
   "metadata": {},
   "outputs": [
    {
     "name": "stdout",
     "output_type": "stream",
     "text": [
      "Mejores hiperparámetros: {'ridge__alpha': 0.1}\n"
     ]
    }
   ],
   "source": [
    "# Creamos la pipeline\n",
    "fullpipeline = make_pipeline(pipeline,Ridge())\n",
    "\n",
    "# Configurar RandomizedSearchCV\n",
    "random_search = RandomizedSearchCV(\n",
    "    estimator=fullpipeline,\n",
    "    param_distributions={'ridge__alpha': [0.1, 1, 10, 100,200]},\n",
    "    n_iter=100,  \n",
    "    cv=5,\n",
    "    scoring='neg_mean_squared_error',\n",
    "    random_state=42\n",
    ")\n",
    "\n",
    "# Realizar la búsqueda aleatoria en el conjunto de entrenamiento\n",
    "random_search.fit(train_set_x, train_set_y)\n",
    "\n",
    "# Mostrar los mejores hiperparámetros encontrados\n",
    "print(\"Mejores hiperparámetros:\", random_search.best_params_)"
   ]
  },
  {
   "cell_type": "markdown",
   "metadata": {},
   "source": [
    "Evalúa este mejor modelo en el conjunto de pruebas"
   ]
  },
  {
   "cell_type": "code",
   "execution_count": 38,
   "metadata": {},
   "outputs": [
    {
     "name": "stdout",
     "output_type": "stream",
     "text": [
      "RMSE:  56.47339266394927\n"
     ]
    }
   ],
   "source": [
    "final_model = random_search.best_estimator_\n",
    "y_pred = cross_val_predict(final_model, test_set_x, test_set_y, cv=5)\n",
    "\n",
    "rmse = np.sqrt(mean_squared_error(test_set_y, y_pred))\n",
    "print('RMSE: ',rmse)"
   ]
  },
  {
   "cell_type": "markdown",
   "metadata": {},
   "source": [
    "### PRESENTACIÓN DEL MODELO"
   ]
  },
  {
   "cell_type": "markdown",
   "metadata": {},
   "source": [
    "Guarda el modelo en un archivo"
   ]
  },
  {
   "cell_type": "code",
   "execution_count": null,
   "metadata": {},
   "outputs": [],
   "source": []
  },
  {
   "cell_type": "markdown",
   "metadata": {},
   "source": [
    "Opcional: hacer un script de Python que pida los datos y te prediga el resultado"
   ]
  },
  {
   "cell_type": "markdown",
   "metadata": {},
   "source": [
    "## EJERCICIO 4"
   ]
  },
  {
   "cell_type": "markdown",
   "metadata": {},
   "source": [
    "Usa regresión logística para crear un modelo que deduzca el tipo de flor iris"
   ]
  },
  {
   "cell_type": "markdown",
   "metadata": {},
   "source": [
    "### RECOPILACIÓN Y PREPARACIÓN DE LOS DATOS"
   ]
  },
  {
   "cell_type": "markdown",
   "metadata": {},
   "source": [
    "#### OBTENER LOS DATOS"
   ]
  },
  {
   "cell_type": "code",
   "execution_count": null,
   "metadata": {},
   "outputs": [],
   "source": [
    "iris = load_iris(as_frame=True)\n",
    "X = iris.data\n",
    "y = iris.target"
   ]
  },
  {
   "cell_type": "markdown",
   "metadata": {},
   "source": [
    "#### EXPLORAR LOS DATOS"
   ]
  },
  {
   "cell_type": "markdown",
   "metadata": {},
   "source": [
    "Visualiza los datos"
   ]
  },
  {
   "cell_type": "code",
   "execution_count": null,
   "metadata": {},
   "outputs": [],
   "source": []
  },
  {
   "cell_type": "markdown",
   "metadata": {},
   "source": [
    "Representa la matriz de correlaciones"
   ]
  },
  {
   "cell_type": "code",
   "execution_count": null,
   "metadata": {},
   "outputs": [],
   "source": []
  },
  {
   "cell_type": "markdown",
   "metadata": {},
   "source": [
    "#### DIVIDIR LOS DATOS"
   ]
  },
  {
   "cell_type": "code",
   "execution_count": null,
   "metadata": {},
   "outputs": [],
   "source": []
  },
  {
   "cell_type": "markdown",
   "metadata": {},
   "source": [
    "#### PREPARAR LOS DATOS"
   ]
  },
  {
   "cell_type": "markdown",
   "metadata": {},
   "source": [
    "Solo hay que estandarizar las columnas y por lo tanto se puede hacer directamente en la pipeline que define el modelo en el siguiente punto"
   ]
  },
  {
   "cell_type": "markdown",
   "metadata": {},
   "source": [
    "### SELECCIÓN Y ENTRENAMIENTO DEL MODELO"
   ]
  },
  {
   "cell_type": "markdown",
   "metadata": {},
   "source": [
    "Crear y entrenar el modelo con regresión logística y validacion cruzada ¿cuál es la exactitud en el conjunto de entrenamiento?"
   ]
  },
  {
   "cell_type": "code",
   "execution_count": null,
   "metadata": {},
   "outputs": [],
   "source": []
  },
  {
   "cell_type": "markdown",
   "metadata": {},
   "source": [
    "Calcula matriz de confusion, precision, recall y f1 en el conjunto de entrenamiento"
   ]
  },
  {
   "cell_type": "code",
   "execution_count": null,
   "metadata": {},
   "outputs": [],
   "source": []
  },
  {
   "cell_type": "markdown",
   "metadata": {},
   "source": [
    "¿Qué podemos deducir?"
   ]
  },
  {
   "cell_type": "code",
   "execution_count": null,
   "metadata": {},
   "outputs": [],
   "source": []
  },
  {
   "cell_type": "markdown",
   "metadata": {},
   "source": [
    "### OPTIMIZACIÓN DEL MODELO"
   ]
  },
  {
   "cell_type": "markdown",
   "metadata": {},
   "source": [
    "Aplica búsqueda exhaustiva con los hiperparámetros de LogisticRegression (C y solver) y guarda el mejor modelo en una variable."
   ]
  },
  {
   "cell_type": "code",
   "execution_count": null,
   "metadata": {},
   "outputs": [],
   "source": []
  },
  {
   "cell_type": "markdown",
   "metadata": {},
   "source": [
    "### EVALUACIÓN DEL MODELO"
   ]
  },
  {
   "cell_type": "markdown",
   "metadata": {},
   "source": [
    "Evalua este mejor modelo en el conjunto de pruebas (exactitud, matriz de confusión, precision, recall y f1)"
   ]
  },
  {
   "cell_type": "code",
   "execution_count": null,
   "metadata": {},
   "outputs": [],
   "source": []
  },
  {
   "cell_type": "markdown",
   "metadata": {},
   "source": [
    "### PRESENTACIÓN DEL MODELO"
   ]
  },
  {
   "cell_type": "markdown",
   "metadata": {},
   "source": [
    "Guarda el modelo en un archivo"
   ]
  },
  {
   "cell_type": "code",
   "execution_count": null,
   "metadata": {},
   "outputs": [],
   "source": []
  },
  {
   "cell_type": "markdown",
   "metadata": {},
   "source": [
    "## EJERCICIO 5"
   ]
  },
  {
   "cell_type": "markdown",
   "metadata": {},
   "source": [
    "Intenta predecir las emisiones de CO2 con el menor error posible (sigue todos los pasos incluido crear un script para que haga predicciones).\n",
    "\n",
    "Prueba diferentes modelos para intentar construir el mejor modelo posible (explica todos los pasos que das hasta llegar a la solución, quiero ver también los modelos que pruebas y luego los rechazas)\n",
    "\n",
    "Dataset: https://www.kaggle.com/datasets/midhundasl/co2-emission-of-cars-dataset"
   ]
  }
 ],
 "metadata": {
  "kernelspec": {
   "display_name": "Python 3",
   "language": "python",
   "name": "python3"
  },
  "language_info": {
   "codemirror_mode": {
    "name": "ipython",
    "version": 3
   },
   "file_extension": ".py",
   "mimetype": "text/x-python",
   "name": "python",
   "nbconvert_exporter": "python",
   "pygments_lexer": "ipython3",
   "version": "3.11.0"
  },
  "nav_menu": {},
  "toc": {
   "navigate_menu": true,
   "number_sections": true,
   "sideBar": true,
   "threshold": 6,
   "toc_cell": false,
   "toc_section_display": "block",
   "toc_window_display": false
  }
 },
 "nbformat": 4,
 "nbformat_minor": 4
}
