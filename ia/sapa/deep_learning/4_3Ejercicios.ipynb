{
 "cells": [
  {
   "cell_type": "markdown",
   "metadata": {},
   "source": [
    "# EJERCICIOS"
   ]
  },
  {
   "cell_type": "code",
   "execution_count": 24,
   "metadata": {},
   "outputs": [],
   "source": [
    "import tensorflow as tf\n",
    "from keras.models import Sequential\n",
    "from keras.layers import Dense, Input\n",
    "import numpy as np\n",
    "import pandas as pd\n",
    "import os\n",
    "import matplotlib.pyplot as plt\n",
    "from scipy.io import loadmat\n",
    "from sklearn.model_selection import train_test_split\n",
    "from sklearn.preprocessing import StandardScaler"
   ]
  },
  {
   "cell_type": "markdown",
   "metadata": {},
   "source": [
    "## EJERCICIO 1"
   ]
  },
  {
   "cell_type": "markdown",
   "metadata": {},
   "source": [
    "¿Cuántas neuronas hacen falta en la capa de salida para clasificar emails entre correo no deseado y correo deseado? \n",
    " - 1\n",
    "\n",
    "¿Qué función de activación deberías usar en la capa de salida? \n",
    " - Sigmoide\n",
    "\n",
    "Si, en cambio, quieres enfrentarte a MNIST, ¿cuántas neuronas necesitas en la capa de salida y qué función de activación deberías usar? \n",
    " - 10 neuronas (1 neurona por clase), funcion de activacion: Softmax\n",
    "\n",
    "¿Y si quieres que la red prediga los precios de la vivienda en California?\n",
    " - 1 neurona, funcion de activacion: Softmax"
   ]
  },
  {
   "cell_type": "markdown",
   "metadata": {},
   "source": [
    "## EJERCICIO 2"
   ]
  },
  {
   "cell_type": "markdown",
   "metadata": {},
   "source": [
    "Entrena un red neuronal profunda con el conjunto de datos MNIST (puedes cargarlo con tf. keras. datasets.minst.load_data()). Intenta conseguir la mejor pruebas en el conjunto de validación  ajustando los hiperparámetros de modo manual. Prueba a buscar una buena tasa de aprendizaje y utiliza la detención temprana (mínimo hay que conseguir un 97%).\n",
    "\n",
    "Pasos a seguir: \n",
    "+ Entrena varios modelos con distintas tasas de aprendizaje\n",
    "+ Guarda cada modelo en un fichero\n",
    "+ Carga cada modelo y evalúalo en el conjunto de cargas y quedate con programación con el mejor (bucle que se quede con el mejor), mostrando la tasa de aprendizaje y la exactitud del mejor modelo.\n",
    "\n",
    "Si no obtienes más de un 97% vuelve a empezar."
   ]
  },
  {
   "cell_type": "markdown",
   "metadata": {},
   "source": [
    "#### Obtener, separar datos"
   ]
  },
  {
   "cell_type": "code",
   "execution_count": 25,
   "metadata": {},
   "outputs": [],
   "source": [
    "mnist = tf.keras.datasets.mnist.load_data()\n",
    "(X_train_full, y_train_full), (X_test, y_test) = mnist\n",
    "\n",
    "#Dividimos los datos completos de entrenamiento en datos de entrenamiento y validación\n",
    "X_train, y_train = X_train_full[:-5000], y_train_full[:-5000]\n",
    "X_valid, y_valid = X_train_full[-5000:], y_train_full[-5000:]"
   ]
  },
  {
   "cell_type": "markdown",
   "metadata": {},
   "source": [
    "#### Entrenar varios modelos"
   ]
  },
  {
   "cell_type": "code",
   "execution_count": 3,
   "metadata": {},
   "outputs": [
    {
     "data": {
      "text/plain": [
       "(28, 28)"
      ]
     },
     "execution_count": 3,
     "metadata": {},
     "output_type": "execute_result"
    }
   ],
   "source": [
    "X_train.shape[1:]"
   ]
  },
  {
   "cell_type": "code",
   "execution_count": 37,
   "metadata": {},
   "outputs": [],
   "source": [
    "# 1 entrada, 2 ocultas y 1 salida de 10 neuronas(1 por clase)\n",
    "model = tf.keras.Sequential([\n",
    "    tf.keras.layers.Input(shape=X_train.shape[1:]),\n",
    "    tf.keras.layers.Flatten(),\n",
    "    tf.keras.layers.Dense(124, activation=\"relu\"),\n",
    "    tf.keras.layers.Dense(64, activation=\"relu\"),\n",
    "    tf.keras.layers.Dense(10, activation=\"softmax\")  \n",
    "])"
   ]
  },
  {
   "cell_type": "code",
   "execution_count": null,
   "metadata": {},
   "outputs": [
    {
     "name": "stdout",
     "output_type": "stream",
     "text": [
      "Learning rate:  0.001\n",
      "Epoch 1/80\n",
      "\u001b[1m1719/1719\u001b[0m \u001b[32m━━━━━━━━━━━━━━━━━━━━\u001b[0m\u001b[37m\u001b[0m \u001b[1m5s\u001b[0m 2ms/step - accuracy: 0.7989 - loss: 5.1311 - val_accuracy: 0.9300 - val_loss: 0.3164\n",
      "Epoch 2/80\n",
      "\u001b[1m1719/1719\u001b[0m \u001b[32m━━━━━━━━━━━━━━━━━━━━\u001b[0m\u001b[37m\u001b[0m \u001b[1m4s\u001b[0m 2ms/step - accuracy: 0.9254 - loss: 0.3180 - val_accuracy: 0.9492 - val_loss: 0.2230\n",
      "Epoch 3/80\n",
      "\u001b[1m1719/1719\u001b[0m \u001b[32m━━━━━━━━━━━━━━━━━━━━\u001b[0m\u001b[37m\u001b[0m \u001b[1m4s\u001b[0m 2ms/step - accuracy: 0.9442 - loss: 0.2031 - val_accuracy: 0.9536 - val_loss: 0.2001\n",
      "Epoch 4/80\n",
      "\u001b[1m1719/1719\u001b[0m \u001b[32m━━━━━━━━━━━━━━━━━━━━\u001b[0m\u001b[37m\u001b[0m \u001b[1m4s\u001b[0m 2ms/step - accuracy: 0.9517 - loss: 0.1699 - val_accuracy: 0.9564 - val_loss: 0.1594\n",
      "Epoch 5/80\n",
      "\u001b[1m1719/1719\u001b[0m \u001b[32m━━━━━━━━━━━━━━━━━━━━\u001b[0m\u001b[37m\u001b[0m \u001b[1m4s\u001b[0m 2ms/step - accuracy: 0.9595 - loss: 0.1387 - val_accuracy: 0.9616 - val_loss: 0.1576\n",
      "Epoch 6/80\n",
      "\u001b[1m1719/1719\u001b[0m \u001b[32m━━━━━━━━━━━━━━━━━━━━\u001b[0m\u001b[37m\u001b[0m \u001b[1m4s\u001b[0m 2ms/step - accuracy: 0.9645 - loss: 0.1195 - val_accuracy: 0.9586 - val_loss: 0.1598\n",
      "Epoch 7/80\n",
      "\u001b[1m1719/1719\u001b[0m \u001b[32m━━━━━━━━━━━━━━━━━━━━\u001b[0m\u001b[37m\u001b[0m \u001b[1m4s\u001b[0m 2ms/step - accuracy: 0.9686 - loss: 0.1103 - val_accuracy: 0.9638 - val_loss: 0.1430\n",
      "Epoch 8/80\n",
      "\u001b[1m1719/1719\u001b[0m \u001b[32m━━━━━━━━━━━━━━━━━━━━\u001b[0m\u001b[37m\u001b[0m \u001b[1m4s\u001b[0m 2ms/step - accuracy: 0.9724 - loss: 0.0950 - val_accuracy: 0.9680 - val_loss: 0.1268\n",
      "Epoch 9/80\n",
      "\u001b[1m1719/1719\u001b[0m \u001b[32m━━━━━━━━━━━━━━━━━━━━\u001b[0m\u001b[37m\u001b[0m \u001b[1m4s\u001b[0m 2ms/step - accuracy: 0.9758 - loss: 0.0810 - val_accuracy: 0.9688 - val_loss: 0.1207\n",
      "Epoch 10/80\n",
      "\u001b[1m1719/1719\u001b[0m \u001b[32m━━━━━━━━━━━━━━━━━━━━\u001b[0m\u001b[37m\u001b[0m \u001b[1m4s\u001b[0m 2ms/step - accuracy: 0.9772 - loss: 0.0800 - val_accuracy: 0.9714 - val_loss: 0.1178\n",
      "Epoch 11/80\n",
      "\u001b[1m1719/1719\u001b[0m \u001b[32m━━━━━━━━━━━━━━━━━━━━\u001b[0m\u001b[37m\u001b[0m \u001b[1m4s\u001b[0m 2ms/step - accuracy: 0.9799 - loss: 0.0747 - val_accuracy: 0.9696 - val_loss: 0.1347\n",
      "Epoch 12/80\n",
      "\u001b[1m1719/1719\u001b[0m \u001b[32m━━━━━━━━━━━━━━━━━━━━\u001b[0m\u001b[37m\u001b[0m \u001b[1m4s\u001b[0m 2ms/step - accuracy: 0.9812 - loss: 0.0653 - val_accuracy: 0.9728 - val_loss: 0.1213\n",
      "Epoch 13/80\n",
      "\u001b[1m1719/1719\u001b[0m \u001b[32m━━━━━━━━━━━━━━━━━━━━\u001b[0m\u001b[37m\u001b[0m \u001b[1m4s\u001b[0m 2ms/step - accuracy: 0.9818 - loss: 0.0659 - val_accuracy: 0.9704 - val_loss: 0.1438\n",
      "Epoch 14/80\n",
      "\u001b[1m1719/1719\u001b[0m \u001b[32m━━━━━━━━━━━━━━━━━━━━\u001b[0m\u001b[37m\u001b[0m \u001b[1m4s\u001b[0m 2ms/step - accuracy: 0.9822 - loss: 0.0636 - val_accuracy: 0.9760 - val_loss: 0.1216\n",
      "Epoch 15/80\n",
      "\u001b[1m1719/1719\u001b[0m \u001b[32m━━━━━━━━━━━━━━━━━━━━\u001b[0m\u001b[37m\u001b[0m \u001b[1m5s\u001b[0m 2ms/step - accuracy: 0.9847 - loss: 0.0524 - val_accuracy: 0.9694 - val_loss: 0.1722\n",
      "Epoch 16/80\n",
      "\u001b[1m1719/1719\u001b[0m \u001b[32m━━━━━━━━━━━━━━━━━━━━\u001b[0m\u001b[37m\u001b[0m \u001b[1m4s\u001b[0m 2ms/step - accuracy: 0.9850 - loss: 0.0552 - val_accuracy: 0.9708 - val_loss: 0.1557\n",
      "Epoch 17/80\n",
      "\u001b[1m1719/1719\u001b[0m \u001b[32m━━━━━━━━━━━━━━━━━━━━\u001b[0m\u001b[37m\u001b[0m \u001b[1m4s\u001b[0m 2ms/step - accuracy: 0.9848 - loss: 0.0583 - val_accuracy: 0.9704 - val_loss: 0.1537\n",
      "\n",
      "\n",
      "\n",
      "Learning rate:  0.005\n",
      "Epoch 1/80\n",
      "\u001b[1m1719/1719\u001b[0m \u001b[32m━━━━━━━━━━━━━━━━━━━━\u001b[0m\u001b[37m\u001b[0m \u001b[1m5s\u001b[0m 2ms/step - accuracy: 0.8826 - loss: 0.5593 - val_accuracy: 0.8494 - val_loss: 0.5682\n",
      "Epoch 2/80\n",
      "\u001b[1m1719/1719\u001b[0m \u001b[32m━━━━━━━━━━━━━━━━━━━━\u001b[0m\u001b[37m\u001b[0m \u001b[1m4s\u001b[0m 2ms/step - accuracy: 0.8096 - loss: 0.7796 - val_accuracy: 0.7386 - val_loss: 0.8377\n",
      "Epoch 3/80\n",
      "\u001b[1m1719/1719\u001b[0m \u001b[32m━━━━━━━━━━━━━━━━━━━━\u001b[0m\u001b[37m\u001b[0m \u001b[1m4s\u001b[0m 2ms/step - accuracy: 0.7757 - loss: 0.8605 - val_accuracy: 0.7464 - val_loss: 0.9582\n",
      "Epoch 4/80\n",
      "\u001b[1m1719/1719\u001b[0m \u001b[32m━━━━━━━━━━━━━━━━━━━━\u001b[0m\u001b[37m\u001b[0m \u001b[1m4s\u001b[0m 2ms/step - accuracy: 0.7204 - loss: 0.9318 - val_accuracy: 0.6770 - val_loss: 1.1824\n",
      "Epoch 5/80\n",
      "\u001b[1m1719/1719\u001b[0m \u001b[32m━━━━━━━━━━━━━━━━━━━━\u001b[0m\u001b[37m\u001b[0m \u001b[1m4s\u001b[0m 2ms/step - accuracy: 0.6346 - loss: 1.1878 - val_accuracy: 0.7194 - val_loss: 1.1683\n",
      "Epoch 6/80\n",
      "\u001b[1m1719/1719\u001b[0m \u001b[32m━━━━━━━━━━━━━━━━━━━━\u001b[0m\u001b[37m\u001b[0m \u001b[1m4s\u001b[0m 2ms/step - accuracy: 0.6178 - loss: 1.2751 - val_accuracy: 0.6898 - val_loss: 1.1595\n",
      "Epoch 7/80\n",
      "\u001b[1m1719/1719\u001b[0m \u001b[32m━━━━━━━━━━━━━━━━━━━━\u001b[0m\u001b[37m\u001b[0m \u001b[1m4s\u001b[0m 2ms/step - accuracy: 0.6436 - loss: 1.1251 - val_accuracy: 0.6422 - val_loss: 1.1632\n",
      "Epoch 8/80\n",
      "\u001b[1m1719/1719\u001b[0m \u001b[32m━━━━━━━━━━━━━━━━━━━━\u001b[0m\u001b[37m\u001b[0m \u001b[1m4s\u001b[0m 2ms/step - accuracy: 0.6710 - loss: 1.0311 - val_accuracy: 0.6424 - val_loss: 1.0735\n",
      "\n",
      "\n",
      "\n",
      "Learning rate:  0.01\n",
      "Epoch 1/80\n",
      "\u001b[1m1719/1719\u001b[0m \u001b[32m━━━━━━━━━━━━━━━━━━━━\u001b[0m\u001b[37m\u001b[0m \u001b[1m5s\u001b[0m 2ms/step - accuracy: 0.2738 - loss: 2.0935 - val_accuracy: 0.1060 - val_loss: 2.3038\n",
      "Epoch 2/80\n",
      "\u001b[1m1719/1719\u001b[0m \u001b[32m━━━━━━━━━━━━━━━━━━━━\u001b[0m\u001b[37m\u001b[0m \u001b[1m4s\u001b[0m 2ms/step - accuracy: 0.1083 - loss: 2.3027 - val_accuracy: 0.1126 - val_loss: 2.3026\n",
      "Epoch 3/80\n",
      "\u001b[1m1719/1719\u001b[0m \u001b[32m━━━━━━━━━━━━━━━━━━━━\u001b[0m\u001b[37m\u001b[0m \u001b[1m4s\u001b[0m 2ms/step - accuracy: 0.1101 - loss: 2.3024 - val_accuracy: 0.1060 - val_loss: 2.3037\n",
      "Epoch 4/80\n",
      "\u001b[1m1719/1719\u001b[0m \u001b[32m━━━━━━━━━━━━━━━━━━━━\u001b[0m\u001b[37m\u001b[0m \u001b[1m4s\u001b[0m 2ms/step - accuracy: 0.1092 - loss: 2.3026 - val_accuracy: 0.1060 - val_loss: 2.3040\n",
      "Epoch 5/80\n",
      "\u001b[1m1719/1719\u001b[0m \u001b[32m━━━━━━━━━━━━━━━━━━━━\u001b[0m\u001b[37m\u001b[0m \u001b[1m4s\u001b[0m 2ms/step - accuracy: 0.1108 - loss: 2.3023 - val_accuracy: 0.1060 - val_loss: 2.3049\n",
      "Epoch 6/80\n",
      "\u001b[1m1719/1719\u001b[0m \u001b[32m━━━━━━━━━━━━━━━━━━━━\u001b[0m\u001b[37m\u001b[0m \u001b[1m4s\u001b[0m 2ms/step - accuracy: 0.1084 - loss: 2.3029 - val_accuracy: 0.1060 - val_loss: 2.3024\n",
      "Epoch 7/80\n",
      "\u001b[1m1719/1719\u001b[0m \u001b[32m━━━━━━━━━━━━━━━━━━━━\u001b[0m\u001b[37m\u001b[0m \u001b[1m4s\u001b[0m 2ms/step - accuracy: 0.1125 - loss: 2.3023 - val_accuracy: 0.1060 - val_loss: 2.3027\n",
      "Epoch 8/80\n",
      "\u001b[1m1719/1719\u001b[0m \u001b[32m━━━━━━━━━━━━━━━━━━━━\u001b[0m\u001b[37m\u001b[0m \u001b[1m4s\u001b[0m 2ms/step - accuracy: 0.1064 - loss: 2.3029 - val_accuracy: 0.1060 - val_loss: 2.3023\n",
      "Epoch 9/80\n",
      "\u001b[1m1719/1719\u001b[0m \u001b[32m━━━━━━━━━━━━━━━━━━━━\u001b[0m\u001b[37m\u001b[0m \u001b[1m5s\u001b[0m 2ms/step - accuracy: 0.1098 - loss: 2.3023 - val_accuracy: 0.1060 - val_loss: 2.3052\n",
      "Epoch 10/80\n",
      "\u001b[1m1719/1719\u001b[0m \u001b[32m━━━━━━━━━━━━━━━━━━━━\u001b[0m\u001b[37m\u001b[0m \u001b[1m4s\u001b[0m 2ms/step - accuracy: 0.1079 - loss: 2.3028 - val_accuracy: 0.1060 - val_loss: 2.3043\n",
      "Epoch 11/80\n",
      "\u001b[1m1719/1719\u001b[0m \u001b[32m━━━━━━━━━━━━━━━━━━━━\u001b[0m\u001b[37m\u001b[0m \u001b[1m4s\u001b[0m 2ms/step - accuracy: 0.1085 - loss: 2.3026 - val_accuracy: 0.1060 - val_loss: 2.3044\n",
      "Epoch 12/80\n",
      "\u001b[1m1719/1719\u001b[0m \u001b[32m━━━━━━━━━━━━━━━━━━━━\u001b[0m\u001b[37m\u001b[0m \u001b[1m4s\u001b[0m 2ms/step - accuracy: 0.1120 - loss: 2.3026 - val_accuracy: 0.1060 - val_loss: 2.3040\n",
      "Epoch 13/80\n",
      "\u001b[1m1719/1719\u001b[0m \u001b[32m━━━━━━━━━━━━━━━━━━━━\u001b[0m\u001b[37m\u001b[0m \u001b[1m4s\u001b[0m 2ms/step - accuracy: 0.1096 - loss: 2.3024 - val_accuracy: 0.1060 - val_loss: 2.3042\n",
      "Epoch 14/80\n",
      "\u001b[1m1719/1719\u001b[0m \u001b[32m━━━━━━━━━━━━━━━━━━━━\u001b[0m\u001b[37m\u001b[0m \u001b[1m4s\u001b[0m 2ms/step - accuracy: 0.1104 - loss: 2.3026 - val_accuracy: 0.1060 - val_loss: 2.3042\n",
      "Epoch 15/80\n",
      "\u001b[1m1719/1719\u001b[0m \u001b[32m━━━━━━━━━━━━━━━━━━━━\u001b[0m\u001b[37m\u001b[0m \u001b[1m4s\u001b[0m 2ms/step - accuracy: 0.1122 - loss: 2.3026 - val_accuracy: 0.1126 - val_loss: 2.3020\n",
      "Epoch 16/80\n",
      "\u001b[1m1719/1719\u001b[0m \u001b[32m━━━━━━━━━━━━━━━━━━━━\u001b[0m\u001b[37m\u001b[0m \u001b[1m4s\u001b[0m 2ms/step - accuracy: 0.1083 - loss: 2.3026 - val_accuracy: 0.1060 - val_loss: 2.3031\n",
      "Epoch 17/80\n",
      "\u001b[1m1719/1719\u001b[0m \u001b[32m━━━━━━━━━━━━━━━━━━━━\u001b[0m\u001b[37m\u001b[0m \u001b[1m4s\u001b[0m 2ms/step - accuracy: 0.1116 - loss: 2.3024 - val_accuracy: 0.1060 - val_loss: 2.3042\n",
      "Epoch 18/80\n",
      "\u001b[1m1719/1719\u001b[0m \u001b[32m━━━━━━━━━━━━━━━━━━━━\u001b[0m\u001b[37m\u001b[0m \u001b[1m4s\u001b[0m 2ms/step - accuracy: 0.1104 - loss: 2.3026 - val_accuracy: 0.1060 - val_loss: 2.3043\n",
      "Epoch 19/80\n",
      "\u001b[1m1719/1719\u001b[0m \u001b[32m━━━━━━━━━━━━━━━━━━━━\u001b[0m\u001b[37m\u001b[0m \u001b[1m4s\u001b[0m 2ms/step - accuracy: 0.1104 - loss: 2.3029 - val_accuracy: 0.1018 - val_loss: 2.3028\n",
      "Epoch 20/80\n",
      "\u001b[1m1719/1719\u001b[0m \u001b[32m━━━━━━━━━━━━━━━━━━━━\u001b[0m\u001b[37m\u001b[0m \u001b[1m4s\u001b[0m 2ms/step - accuracy: 0.1049 - loss: 2.3032 - val_accuracy: 0.1060 - val_loss: 2.3029\n",
      "Epoch 21/80\n",
      "\u001b[1m1719/1719\u001b[0m \u001b[32m━━━━━━━━━━━━━━━━━━━━\u001b[0m\u001b[37m\u001b[0m \u001b[1m5s\u001b[0m 2ms/step - accuracy: 0.1133 - loss: 2.3022 - val_accuracy: 0.1018 - val_loss: 2.3049\n",
      "Epoch 22/80\n",
      "\u001b[1m1719/1719\u001b[0m \u001b[32m━━━━━━━━━━━━━━━━━━━━\u001b[0m\u001b[37m\u001b[0m \u001b[1m4s\u001b[0m 2ms/step - accuracy: 0.1114 - loss: 2.3024 - val_accuracy: 0.0998 - val_loss: 2.3033\n",
      "\n",
      "\n",
      "\n",
      "Learning rate:  0.05\n",
      "Epoch 1/80\n",
      "\u001b[1m1719/1719\u001b[0m \u001b[32m━━━━━━━━━━━━━━━━━━━━\u001b[0m\u001b[37m\u001b[0m \u001b[1m5s\u001b[0m 2ms/step - accuracy: 0.1053 - loss: 2.3078 - val_accuracy: 0.0986 - val_loss: 2.3094\n",
      "Epoch 2/80\n",
      "\u001b[1m1719/1719\u001b[0m \u001b[32m━━━━━━━━━━━━━━━━━━━━\u001b[0m\u001b[37m\u001b[0m \u001b[1m4s\u001b[0m 2ms/step - accuracy: 0.1052 - loss: 2.3068 - val_accuracy: 0.0964 - val_loss: 2.3078\n",
      "Epoch 3/80\n",
      "\u001b[1m1719/1719\u001b[0m \u001b[32m━━━━━━━━━━━━━━━━━━━━\u001b[0m\u001b[37m\u001b[0m \u001b[1m4s\u001b[0m 2ms/step - accuracy: 0.1058 - loss: 2.3078 - val_accuracy: 0.0988 - val_loss: 2.3090\n",
      "Epoch 4/80\n",
      "\u001b[1m1719/1719\u001b[0m \u001b[32m━━━━━━━━━━━━━━━━━━━━\u001b[0m\u001b[37m\u001b[0m \u001b[1m4s\u001b[0m 2ms/step - accuracy: 0.1030 - loss: 2.3075 - val_accuracy: 0.1018 - val_loss: 2.3115\n",
      "Epoch 5/80\n",
      "\u001b[1m1719/1719\u001b[0m \u001b[32m━━━━━━━━━━━━━━━━━━━━\u001b[0m\u001b[37m\u001b[0m \u001b[1m4s\u001b[0m 2ms/step - accuracy: 0.1036 - loss: 2.3080 - val_accuracy: 0.1126 - val_loss: 2.3082\n",
      "Epoch 6/80\n",
      "\u001b[1m1719/1719\u001b[0m \u001b[32m━━━━━━━━━━━━━━━━━━━━\u001b[0m\u001b[37m\u001b[0m \u001b[1m4s\u001b[0m 2ms/step - accuracy: 0.1017 - loss: 2.3087 - val_accuracy: 0.1060 - val_loss: 2.3138\n",
      "Epoch 7/80\n",
      "\u001b[1m1719/1719\u001b[0m \u001b[32m━━━━━━━━━━━━━━━━━━━━\u001b[0m\u001b[37m\u001b[0m \u001b[1m4s\u001b[0m 2ms/step - accuracy: 0.1003 - loss: 2.3083 - val_accuracy: 0.1126 - val_loss: 2.3058\n",
      "Epoch 8/80\n",
      "\u001b[1m1719/1719\u001b[0m \u001b[32m━━━━━━━━━━━━━━━━━━━━\u001b[0m\u001b[37m\u001b[0m \u001b[1m4s\u001b[0m 2ms/step - accuracy: 0.1074 - loss: 2.3077 - val_accuracy: 0.0988 - val_loss: 2.3077\n",
      "Epoch 9/80\n",
      "\u001b[1m1719/1719\u001b[0m \u001b[32m━━━━━━━━━━━━━━━━━━━━\u001b[0m\u001b[37m\u001b[0m \u001b[1m4s\u001b[0m 2ms/step - accuracy: 0.1061 - loss: 2.3075 - val_accuracy: 0.0964 - val_loss: 2.3079\n",
      "Epoch 10/80\n",
      "\u001b[1m1719/1719\u001b[0m \u001b[32m━━━━━━━━━━━━━━━━━━━━\u001b[0m\u001b[37m\u001b[0m \u001b[1m4s\u001b[0m 2ms/step - accuracy: 0.1019 - loss: 2.3082 - val_accuracy: 0.1060 - val_loss: 2.3044\n",
      "Epoch 11/80\n",
      "\u001b[1m1719/1719\u001b[0m \u001b[32m━━━━━━━━━━━━━━━━━━━━\u001b[0m\u001b[37m\u001b[0m \u001b[1m4s\u001b[0m 2ms/step - accuracy: 0.1060 - loss: 2.3071 - val_accuracy: 0.0986 - val_loss: 2.3086\n",
      "Epoch 12/80\n",
      "\u001b[1m1719/1719\u001b[0m \u001b[32m━━━━━━━━━━━━━━━━━━━━\u001b[0m\u001b[37m\u001b[0m \u001b[1m4s\u001b[0m 2ms/step - accuracy: 0.1064 - loss: 2.3078 - val_accuracy: 0.1060 - val_loss: 2.3054\n",
      "Epoch 13/80\n",
      "\u001b[1m1719/1719\u001b[0m \u001b[32m━━━━━━━━━━━━━━━━━━━━\u001b[0m\u001b[37m\u001b[0m \u001b[1m4s\u001b[0m 2ms/step - accuracy: 0.1052 - loss: 2.3073 - val_accuracy: 0.1126 - val_loss: 2.3064\n",
      "Epoch 14/80\n",
      "\u001b[1m1719/1719\u001b[0m \u001b[32m━━━━━━━━━━━━━━━━━━━━\u001b[0m\u001b[37m\u001b[0m \u001b[1m4s\u001b[0m 2ms/step - accuracy: 0.1031 - loss: 2.3084 - val_accuracy: 0.1060 - val_loss: 2.3129\n",
      "Epoch 15/80\n",
      "\u001b[1m1719/1719\u001b[0m \u001b[32m━━━━━━━━━━━━━━━━━━━━\u001b[0m\u001b[37m\u001b[0m \u001b[1m4s\u001b[0m 2ms/step - accuracy: 0.1027 - loss: 2.3076 - val_accuracy: 0.1060 - val_loss: 2.3055\n",
      "Epoch 16/80\n",
      "\u001b[1m1719/1719\u001b[0m \u001b[32m━━━━━━━━━━━━━━━━━━━━\u001b[0m\u001b[37m\u001b[0m \u001b[1m4s\u001b[0m 2ms/step - accuracy: 0.1061 - loss: 2.3074 - val_accuracy: 0.0964 - val_loss: 2.3051\n",
      "Epoch 17/80\n",
      "\u001b[1m1719/1719\u001b[0m \u001b[32m━━━━━━━━━━━━━━━━━━━━\u001b[0m\u001b[37m\u001b[0m \u001b[1m4s\u001b[0m 2ms/step - accuracy: 0.1034 - loss: 2.3076 - val_accuracy: 0.0986 - val_loss: 2.3109\n",
      "\n",
      "\n",
      "\n",
      "Learning rate:  0.05\n",
      "Epoch 1/80\n",
      "\u001b[1m1719/1719\u001b[0m \u001b[32m━━━━━━━━━━━━━━━━━━━━\u001b[0m\u001b[37m\u001b[0m \u001b[1m5s\u001b[0m 2ms/step - accuracy: 0.1042 - loss: 2.3081 - val_accuracy: 0.1060 - val_loss: 2.3025\n",
      "Epoch 2/80\n",
      "\u001b[1m1719/1719\u001b[0m \u001b[32m━━━━━━━━━━━━━━━━━━━━\u001b[0m\u001b[37m\u001b[0m \u001b[1m4s\u001b[0m 2ms/step - accuracy: 0.1052 - loss: 2.3067 - val_accuracy: 0.1060 - val_loss: 2.3069\n",
      "Epoch 3/80\n",
      "\u001b[1m1719/1719\u001b[0m \u001b[32m━━━━━━━━━━━━━━━━━━━━\u001b[0m\u001b[37m\u001b[0m \u001b[1m4s\u001b[0m 2ms/step - accuracy: 0.1046 - loss: 2.3074 - val_accuracy: 0.0998 - val_loss: 2.3074\n",
      "Epoch 4/80\n",
      "\u001b[1m1719/1719\u001b[0m \u001b[32m━━━━━━━━━━━━━━━━━━━━\u001b[0m\u001b[37m\u001b[0m \u001b[1m4s\u001b[0m 2ms/step - accuracy: 0.1018 - loss: 2.3084 - val_accuracy: 0.1060 - val_loss: 2.3075\n",
      "Epoch 5/80\n",
      "\u001b[1m1719/1719\u001b[0m \u001b[32m━━━━━━━━━━━━━━━━━━━━\u001b[0m\u001b[37m\u001b[0m \u001b[1m4s\u001b[0m 2ms/step - accuracy: 0.1003 - loss: 2.3079 - val_accuracy: 0.1060 - val_loss: 2.3044\n",
      "Epoch 6/80\n",
      "\u001b[1m1719/1719\u001b[0m \u001b[32m━━━━━━━━━━━━━━━━━━━━\u001b[0m\u001b[37m\u001b[0m \u001b[1m4s\u001b[0m 2ms/step - accuracy: 0.1039 - loss: 2.3077 - val_accuracy: 0.0986 - val_loss: 2.3072\n",
      "Epoch 7/80\n",
      "\u001b[1m1719/1719\u001b[0m \u001b[32m━━━━━━━━━━━━━━━━━━━━\u001b[0m\u001b[37m\u001b[0m \u001b[1m5s\u001b[0m 2ms/step - accuracy: 0.1080 - loss: 2.3063 - val_accuracy: 0.1060 - val_loss: 2.3093\n",
      "Epoch 8/80\n",
      "\u001b[1m1719/1719\u001b[0m \u001b[32m━━━━━━━━━━━━━━━━━━━━\u001b[0m\u001b[37m\u001b[0m \u001b[1m4s\u001b[0m 2ms/step - accuracy: 0.1016 - loss: 2.3082 - val_accuracy: 0.1060 - val_loss: 2.3087\n",
      "\n",
      "\n",
      "\n",
      "Learning rate:  0.1\n",
      "Epoch 1/80\n",
      "\u001b[1m1719/1719\u001b[0m \u001b[32m━━━━━━━━━━━━━━━━━━━━\u001b[0m\u001b[37m\u001b[0m \u001b[1m5s\u001b[0m 2ms/step - accuracy: 0.1011 - loss: 2.3136 - val_accuracy: 0.1018 - val_loss: 2.3160\n",
      "Epoch 2/80\n",
      "\u001b[1m1719/1719\u001b[0m \u001b[32m━━━━━━━━━━━━━━━━━━━━\u001b[0m\u001b[37m\u001b[0m \u001b[1m4s\u001b[0m 2ms/step - accuracy: 0.1017 - loss: 2.3128 - val_accuracy: 0.1060 - val_loss: 2.3109\n",
      "Epoch 3/80\n",
      "\u001b[1m1719/1719\u001b[0m \u001b[32m━━━━━━━━━━━━━━━━━━━━\u001b[0m\u001b[37m\u001b[0m \u001b[1m4s\u001b[0m 2ms/step - accuracy: 0.1023 - loss: 2.3142 - val_accuracy: 0.1060 - val_loss: 2.3121\n",
      "Epoch 4/80\n",
      "\u001b[1m1719/1719\u001b[0m \u001b[32m━━━━━━━━━━━━━━━━━━━━\u001b[0m\u001b[37m\u001b[0m \u001b[1m4s\u001b[0m 2ms/step - accuracy: 0.1034 - loss: 2.3146 - val_accuracy: 0.0978 - val_loss: 2.3245\n",
      "Epoch 5/80\n",
      "\u001b[1m1719/1719\u001b[0m \u001b[32m━━━━━━━━━━━━━━━━━━━━\u001b[0m\u001b[37m\u001b[0m \u001b[1m4s\u001b[0m 2ms/step - accuracy: 0.1028 - loss: 2.3139 - val_accuracy: 0.1018 - val_loss: 2.3136\n",
      "Epoch 6/80\n",
      "\u001b[1m1719/1719\u001b[0m \u001b[32m━━━━━━━━━━━━━━━━━━━━\u001b[0m\u001b[37m\u001b[0m \u001b[1m4s\u001b[0m 2ms/step - accuracy: 0.1010 - loss: 2.3129 - val_accuracy: 0.1018 - val_loss: 2.3144\n",
      "Epoch 7/80\n",
      "\u001b[1m1719/1719\u001b[0m \u001b[32m━━━━━━━━━━━━━━━━━━━━\u001b[0m\u001b[37m\u001b[0m \u001b[1m4s\u001b[0m 2ms/step - accuracy: 0.1033 - loss: 2.3145 - val_accuracy: 0.1060 - val_loss: 2.3168\n",
      "Epoch 8/80\n",
      "\u001b[1m1719/1719\u001b[0m \u001b[32m━━━━━━━━━━━━━━━━━━━━\u001b[0m\u001b[37m\u001b[0m \u001b[1m4s\u001b[0m 2ms/step - accuracy: 0.1056 - loss: 2.3133 - val_accuracy: 0.0964 - val_loss: 2.3151\n",
      "Epoch 9/80\n",
      "\u001b[1m1719/1719\u001b[0m \u001b[32m━━━━━━━━━━━━━━━━━━━━\u001b[0m\u001b[37m\u001b[0m \u001b[1m4s\u001b[0m 2ms/step - accuracy: 0.1057 - loss: 2.3135 - val_accuracy: 0.0988 - val_loss: 2.3141\n",
      "\n",
      "\n",
      "\n"
     ]
    }
   ],
   "source": [
    "# creamos carpeta si no existe para guardar los modelos y checkpoint\n",
    "ruta_dir_mod = './recursos/modelos/4_3_2'\n",
    "if not os.path.exists(ruta_dir_mod):\n",
    "    os.mkdir(ruta_dir_mod)\n",
    "if not os.path.exists('./recursos/checkpoint'):\n",
    "    os.mkdir('./recursos/checkpoint')\n",
    "\n",
    "# Si no mejora en 7 iteraciones el modelo para de entrenar\n",
    "early_stopping_cb = tf.keras.callbacks.EarlyStopping(patience=7, restore_best_weights=True)\n",
    "checkpoint_cb = tf.keras.callbacks.ModelCheckpoint(\"./recursos/checkpoint/4_3_2_checkpoints.weights.h5\", save_weights_only=True)\n",
    "\n",
    "historys = []\n",
    "rangos = [1e-3, 5e-3, 1e-2, 5e-2, 0.05, 0.1]\n",
    "for lr in rangos :\n",
    "    print('Learning rate: ',lr)\n",
    "    # Se compila el modelo con el optimizador   \n",
    "    model.compile(loss=tf.keras.losses.sparse_categorical_crossentropy,\n",
    "              optimizer=tf.keras.optimizers.SGD(learning_rate=lr),   # asignar tasa de aprendizaje\n",
    "              metrics=['accuracy'])\n",
    "    # entrenar\n",
    "    hist = model.fit(X_train, y_train, epochs=80, validation_data=(X_valid, y_valid), \n",
    "                     callbacks=[checkpoint_cb,early_stopping_cb])\n",
    "    historys.append(hist)\n",
    "    \n",
    "    # guardar\n",
    "    ruta = \"./recursos/modelos/4_3_2/my_keras_model_lr{}.keras\".format(lr)\n",
    "    model.save(ruta)\n",
    "    print('\\n\\n')"
   ]
  },
  {
   "cell_type": "code",
   "execution_count": 30,
   "metadata": {},
   "outputs": [
    {
     "name": "stdout",
     "output_type": "stream",
     "text": [
      " Modelo_0: {'verbose': 'auto', 'epochs': 80, 'steps': 1719}\n",
      " Modelo_1: {'verbose': 'auto', 'epochs': 80, 'steps': 1719}\n",
      " Modelo_2: {'verbose': 'auto', 'epochs': 80, 'steps': 1719}\n",
      " Modelo_3: {'verbose': 'auto', 'epochs': 80, 'steps': 1719}\n",
      " Modelo_4: {'verbose': 'auto', 'epochs': 80, 'steps': 1719}\n",
      " Modelo_5: {'verbose': 'auto', 'epochs': 80, 'steps': 1719}\n",
      " Modelo_6: {'verbose': 'auto', 'epochs': 80, 'steps': 1719}\n"
     ]
    }
   ],
   "source": [
    "for i in range(len(historys)):\n",
    "    # mostramos el historial de entrenamiento \n",
    "    print(' Modelo_{}: {}'.format(i,historys[i].params))\n"
   ]
  },
  {
   "cell_type": "markdown",
   "metadata": {},
   "source": [
    "#### Cargar y evaluar con bucle"
   ]
  },
  {
   "cell_type": "code",
   "execution_count": 39,
   "metadata": {},
   "outputs": [
    {
     "name": "stdout",
     "output_type": "stream",
     "text": [
      "Evaluacion my_keras_model_lr1.0.keras: \n",
      "\u001b[1m313/313\u001b[0m \u001b[32m━━━━━━━━━━━━━━━━━━━━\u001b[0m\u001b[37m\u001b[0m \u001b[1m1s\u001b[0m 1ms/step - accuracy: 0.1028 - loss: 2.3405\n",
      "Evaluacion my_keras_model_lr0.1.keras: \n",
      "\u001b[1m313/313\u001b[0m \u001b[32m━━━━━━━━━━━━━━━━━━━━\u001b[0m\u001b[37m\u001b[0m \u001b[1m1s\u001b[0m 1ms/step - accuracy: 0.1160 - loss: 2.3062\n",
      "Evaluacion my_keras_model_lr0.001.keras: \n",
      "\u001b[1m313/313\u001b[0m \u001b[32m━━━━━━━━━━━━━━━━━━━━\u001b[0m\u001b[37m\u001b[0m \u001b[1m1s\u001b[0m 1ms/step - accuracy: 0.9597 - loss: 0.1604\n",
      "Evaluacion my_keras_model_lr0.05.keras: \n",
      "\u001b[1m313/313\u001b[0m \u001b[32m━━━━━━━━━━━━━━━━━━━━\u001b[0m\u001b[37m\u001b[0m \u001b[1m1s\u001b[0m 1ms/step - accuracy: 0.1160 - loss: 2.3015\n",
      "Evaluacion my_keras_model_lr0.01.keras: \n",
      "\u001b[1m313/313\u001b[0m \u001b[32m━━━━━━━━━━━━━━━━━━━━\u001b[0m\u001b[37m\u001b[0m \u001b[1m1s\u001b[0m 1ms/step - accuracy: 0.1027 - loss: 2.3020\n",
      "Evaluacion my_keras_model_lr0.005.keras: \n",
      "\u001b[1m313/313\u001b[0m \u001b[32m━━━━━━━━━━━━━━━━━━━━\u001b[0m\u001b[37m\u001b[0m \u001b[1m1s\u001b[0m 1ms/step - accuracy: 0.8319 - loss: 0.7582\n"
     ]
    }
   ],
   "source": [
    "# cargar\n",
    "modelos = os.listdir(ruta_dir_mod)\n",
    "\n",
    "for mod_ruta in modelos:\n",
    "    model = tf.keras.models.load_model(ruta_dir_mod+'/'+mod_ruta)\n",
    "    # evaluar\n",
    "    print('Evaluacion {}: '.format(mod_ruta))\n",
    "    eval = model.evaluate(X_test, y_test)\n",
    "    "
   ]
  },
  {
   "cell_type": "markdown",
   "metadata": {},
   "source": [
    "## EJERCICIO 3"
   ]
  },
  {
   "cell_type": "markdown",
   "metadata": {},
   "source": [
    "Clasificación de Imágenes de Dígitos Escritos a Mano:\n",
    "\n",
    "* Objetivo: Entrenar una red neuronal para clasificar imágenes de dígitos escritos a mano utilizando el conjunto de datos SVHN (Street View House Numbers).\n",
    "\n",
    "* Tareas: \n",
    "    * Cargar el conjunto de datos, dividir los datos (train, valid y test), explorar los datos representando alguna imagen con su etiqueta y muestra los valores (únicos) de y (en el entrenamiento, en validación y en pruebas), preparar los datos (d normalizar dividiendo entre 255.0 e igual hay que hacer algo más), construir, compilar y entrenar una red neuronal. \n",
    "\n",
    "    * Utilizar detección temprana\n",
    "\n",
    "    * Hacer una gráfica de como evoluciona accuracy y val_accuracy durante el entrenamiento\n",
    "\n",
    "    * Si es necesario ajustar el modelo para lograr una mayor precisión.\n",
    "\n",
    "    * Evalúar el modelo en el conjunto de test y hacer alguna predicción (representa alguna imagen con su etiqueta real y la predicha)"
   ]
  },
  {
   "cell_type": "markdown",
   "metadata": {},
   "source": [
    "### Dividir datos"
   ]
  },
  {
   "cell_type": "code",
   "execution_count": 11,
   "metadata": {},
   "outputs": [],
   "source": [
    "def load_svhn_data(url):\n",
    "    path = tf.keras.utils.get_file(\"svhn.mat\", url)\n",
    "    data = loadmat(path)\n",
    "    return np.transpose(data[\"X\"], (3, 0, 1, 2)), data[\"y\"].flatten()\n",
    "\n",
    "# Cargar datos\n",
    "train_url = \"http://ufldl.stanford.edu/housenumbers/train_32x32.mat\"\n",
    "test_url = \"http://ufldl.stanford.edu/housenumbers/test_32x32.mat\"\n",
    "X_train_full, y_train_full = load_svhn_data(train_url)\n",
    "# entrenamiento y validacion\n",
    "X_train, X_val, y_train, y_val = train_test_split(X_train_full, y_train_full, test_size=0.15, random_state=42, stratify=y_train_full)\n",
    "# prueba\n",
    "X_test, y_test = load_svhn_data(test_url)"
   ]
  },
  {
   "cell_type": "markdown",
   "metadata": {},
   "source": [
    "### Explorar datos"
   ]
  },
  {
   "cell_type": "code",
   "execution_count": 19,
   "metadata": {},
   "outputs": [
    {
     "name": "stdout",
     "output_type": "stream",
     "text": [
      "len:  62268\n"
     ]
    },
    {
     "data": {
      "text/plain": [
       "array([[[103, 110, 125],\n",
       "        [103, 110, 126],\n",
       "        [105, 112, 128],\n",
       "        ...,\n",
       "        [ 71,  80,  98],\n",
       "        [ 66,  78,  95],\n",
       "        [ 63,  76,  93]],\n",
       "\n",
       "       [[104, 112, 126],\n",
       "        [105, 112, 127],\n",
       "        [104, 113, 128],\n",
       "        ...,\n",
       "        [ 53,  61,  86],\n",
       "        [ 43,  52,  76],\n",
       "        [ 38,  47,  71]],\n",
       "\n",
       "       [[105, 115, 127],\n",
       "        [105, 116, 128],\n",
       "        [105, 115, 127],\n",
       "        ...,\n",
       "        [ 39,  43,  73],\n",
       "        [ 32,  36,  65],\n",
       "        [ 31,  36,  65]],\n",
       "\n",
       "       ...,\n",
       "\n",
       "       [[105, 111, 127],\n",
       "        [103, 110, 126],\n",
       "        [104, 110, 128],\n",
       "        ...,\n",
       "        [ 93,  96, 117],\n",
       "        [102, 106, 125],\n",
       "        [107, 111, 128]],\n",
       "\n",
       "       [[105, 111, 127],\n",
       "        [103, 109, 125],\n",
       "        [106, 112, 128],\n",
       "        ...,\n",
       "        [103, 106, 126],\n",
       "        [105, 110, 128],\n",
       "        [108, 113, 132]],\n",
       "\n",
       "       [[106, 112, 128],\n",
       "        [105, 111, 127],\n",
       "        [107, 113, 130],\n",
       "        ...,\n",
       "        [106, 109, 130],\n",
       "        [107, 112, 131],\n",
       "        [108, 113, 132]]], dtype=uint8)"
      ]
     },
     "execution_count": 19,
     "metadata": {},
     "output_type": "execute_result"
    }
   ],
   "source": [
    "print('len: ',len(X_train))\n",
    "X_train[0]"
   ]
  },
  {
   "cell_type": "code",
   "execution_count": null,
   "metadata": {},
   "outputs": [],
   "source": []
  },
  {
   "cell_type": "markdown",
   "metadata": {},
   "source": [
    "### Preparar"
   ]
  },
  {
   "cell_type": "code",
   "execution_count": null,
   "metadata": {},
   "outputs": [],
   "source": []
  },
  {
   "cell_type": "markdown",
   "metadata": {},
   "source": [
    "## EJERCICIO 4"
   ]
  },
  {
   "cell_type": "markdown",
   "metadata": {},
   "source": [
    "Predicción del consumo de energía:\n",
    "\n",
    "* Objetivo: Construir una red neuronal para predecir el consumo de energía de edificios a partir de características como la temperatura, humedad, y tiempo del conjunto de datos Energy Efficiency de UCI Machine Learning Repository\n",
    "\n",
    "* Tareas: \n",
    "    * Cargar el conjunto de datos, dividir los datos (train, valid y test), explorar los datos, preparar los datos (normalizar con una capa de normalización), construir un modelo de regresión, compilar y entrenar una red neuronal. \n",
    "    \n",
    "    * Usa X1-X8 para la X e Y1-Y2 para la y\n",
    "\n",
    "    * Ajusta el modelo hasta encontrar un error absoluto medio aceptable\n",
    "\n",
    "    * Haz una gráfica de como evoluciona el error absoluto medio y error absoluto medio del conjunto de validación durante el entrenamiento\n",
    "\n",
    "    * Evalúa el modelo en el conjunto de test y haz alguna predicción (muestra el valor predicho y el real)"
   ]
  },
  {
   "cell_type": "code",
   "execution_count": 9,
   "metadata": {},
   "outputs": [],
   "source": [
    "# Descargar el conjunto de datos de eficiencia energética de UCI\n",
    "url = (\"https://archive.ics.uci.edu/ml/machine-learning-databases/00242/ENB2012_data.xlsx\")\n",
    "data = pd.read_excel(url)"
   ]
  },
  {
   "cell_type": "code",
   "execution_count": null,
   "metadata": {},
   "outputs": [],
   "source": []
  }
 ],
 "metadata": {
  "kernelspec": {
   "display_name": "base",
   "language": "python",
   "name": "python3"
  },
  "language_info": {
   "codemirror_mode": {
    "name": "ipython",
    "version": 3
   },
   "file_extension": ".py",
   "mimetype": "text/x-python",
   "name": "python",
   "nbconvert_exporter": "python",
   "pygments_lexer": "ipython3",
   "version": "3.12.4"
  },
  "nav_menu": {
   "height": "264px",
   "width": "369px"
  },
  "toc": {
   "navigate_menu": true,
   "number_sections": true,
   "sideBar": true,
   "threshold": 6,
   "toc_cell": false,
   "toc_section_display": "block",
   "toc_window_display": false
  }
 },
 "nbformat": 4,
 "nbformat_minor": 4
}
